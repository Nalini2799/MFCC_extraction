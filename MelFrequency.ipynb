{
  "nbformat": 4,
  "nbformat_minor": 0,
  "metadata": {
    "colab": {
      "name": "MelFrequency.ipynb",
      "provenance": []
    },
    "kernelspec": {
      "name": "python3",
      "display_name": "Python 3"
    },
    "language_info": {
      "name": "python"
    }
  },
  "cells": [
    {
      "cell_type": "code",
      "metadata": {
        "id": "pLVsopc_LfNg",
        "colab": {
          "resources": {
            "http://localhost:8080/nbextensions/google.colab/files.js": {
              "data": "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",
              "ok": true,
              "headers": [
                [
                  "content-type",
                  "application/javascript"
                ]
              ],
              "status": 200,
              "status_text": ""
            }
          },
          "base_uri": "https://localhost:8080/",
          "height": 87
        },
        "outputId": "767d48a1-81a9-46b1-e035-e15997d19296"
      },
      "source": [
        "import pandas as pd\n",
        "from google.colab import files\n",
        "uploaded = files.upload()"
      ],
      "execution_count": 1,
      "outputs": [
        {
          "output_type": "display_data",
          "data": {
            "text/html": [
              "\n",
              "     <input type=\"file\" id=\"files-18b0b8a7-8e4c-4f2b-8ec2-735d01097ef2\" name=\"files[]\" multiple disabled\n",
              "        style=\"border:none\" />\n",
              "     <output id=\"result-18b0b8a7-8e4c-4f2b-8ec2-735d01097ef2\">\n",
              "      Upload widget is only available when the cell has been executed in the\n",
              "      current browser session. Please rerun this cell to enable.\n",
              "      </output>\n",
              "      <script src=\"/nbextensions/google.colab/files.js\"></script> "
            ],
            "text/plain": [
              "<IPython.core.display.HTML object>"
            ]
          },
          "metadata": {}
        },
        {
          "output_type": "stream",
          "name": "stdout",
          "text": [
            "Saving Df.csv to Df.csv\n"
          ]
        }
      ]
    },
    {
      "cell_type": "markdown",
      "metadata": {
        "id": "jsPzFt05Mu9J"
      },
      "source": [
        "**Importing dataset containing audio files**"
      ]
    },
    {
      "cell_type": "code",
      "metadata": {
        "colab": {
          "base_uri": "https://localhost:8080/"
        },
        "id": "rPDeyHmjH3xz",
        "outputId": "34f9a793-6a71-416f-d2f9-b46557c9f3fc"
      },
      "source": [
        "from google.colab import drive\n",
        "drive.mount('/content/gdrive')"
      ],
      "execution_count": 2,
      "outputs": [
        {
          "output_type": "stream",
          "name": "stdout",
          "text": [
            "Mounted at /content/gdrive\n"
          ]
        }
      ]
    },
    {
      "cell_type": "code",
      "metadata": {
        "id": "ElWQa8z2ILmB",
        "colab": {
          "base_uri": "https://localhost:8080/",
          "height": 479
        },
        "outputId": "4becb6d9-b260-43b1-9341-a61ea378ad75"
      },
      "source": [
        "d= pd.read_csv('Df.csv')\n",
        "\n",
        "d"
      ],
      "execution_count": 3,
      "outputs": [
        {
          "output_type": "execute_result",
          "data": {
            "text/html": [
              "<div>\n",
              "<style scoped>\n",
              "    .dataframe tbody tr th:only-of-type {\n",
              "        vertical-align: middle;\n",
              "    }\n",
              "\n",
              "    .dataframe tbody tr th {\n",
              "        vertical-align: top;\n",
              "    }\n",
              "\n",
              "    .dataframe thead th {\n",
              "        text-align: right;\n",
              "    }\n",
              "</style>\n",
              "<table border=\"1\" class=\"dataframe\">\n",
              "  <thead>\n",
              "    <tr style=\"text-align: right;\">\n",
              "      <th></th>\n",
              "      <th>Sound</th>\n",
              "      <th>Label</th>\n",
              "    </tr>\n",
              "  </thead>\n",
              "  <tbody>\n",
              "    <tr>\n",
              "      <th>0</th>\n",
              "      <td>1.wav</td>\n",
              "      <td>Namaskar</td>\n",
              "    </tr>\n",
              "    <tr>\n",
              "      <th>1</th>\n",
              "      <td>2.wav</td>\n",
              "      <td>Namaskar</td>\n",
              "    </tr>\n",
              "    <tr>\n",
              "      <th>2</th>\n",
              "      <td>3.wav</td>\n",
              "      <td>Namaskar</td>\n",
              "    </tr>\n",
              "    <tr>\n",
              "      <th>3</th>\n",
              "      <td>4.wav</td>\n",
              "      <td>Namaskar</td>\n",
              "    </tr>\n",
              "    <tr>\n",
              "      <th>4</th>\n",
              "      <td>5.wav</td>\n",
              "      <td>Namaskar</td>\n",
              "    </tr>\n",
              "    <tr>\n",
              "      <th>...</th>\n",
              "      <td>...</td>\n",
              "      <td>...</td>\n",
              "    </tr>\n",
              "    <tr>\n",
              "      <th>206</th>\n",
              "      <td>119.wav</td>\n",
              "      <td>samachar</td>\n",
              "    </tr>\n",
              "    <tr>\n",
              "      <th>207</th>\n",
              "      <td>120.wav</td>\n",
              "      <td>samachar</td>\n",
              "    </tr>\n",
              "    <tr>\n",
              "      <th>208</th>\n",
              "      <td>121.wav</td>\n",
              "      <td>samachar</td>\n",
              "    </tr>\n",
              "    <tr>\n",
              "      <th>209</th>\n",
              "      <td>122.wav</td>\n",
              "      <td>samachar</td>\n",
              "    </tr>\n",
              "    <tr>\n",
              "      <th>210</th>\n",
              "      <td>123.wav</td>\n",
              "      <td>samachar</td>\n",
              "    </tr>\n",
              "  </tbody>\n",
              "</table>\n",
              "<p>211 rows × 2 columns</p>\n",
              "</div>"
            ],
            "text/plain": [
              "       Sound     Label\n",
              "0      1.wav  Namaskar\n",
              "1      2.wav  Namaskar\n",
              "2      3.wav  Namaskar\n",
              "3      4.wav  Namaskar\n",
              "4      5.wav  Namaskar\n",
              "..       ...       ...\n",
              "206  119.wav  samachar\n",
              "207  120.wav  samachar\n",
              "208  121.wav  samachar\n",
              "209  122.wav  samachar\n",
              "210  123.wav  samachar\n",
              "\n",
              "[211 rows x 2 columns]"
            ]
          },
          "metadata": {},
          "execution_count": 3
        }
      ]
    },
    {
      "cell_type": "code",
      "metadata": {
        "id": "n4zF6YgXIYrp"
      },
      "source": [
        "audio='/content/gdrive/MyDrive/files'"
      ],
      "execution_count": 6,
      "outputs": []
    },
    {
      "cell_type": "code",
      "metadata": {
        "id": "2YTVjF6IJY_-"
      },
      "source": [
        "import librosa\n",
        "audio_file_path='/content/gdrive/MyDrive/files/1.wav'\n",
        "librosa_audio_data,librosa_sample_rate=librosa.load(audio_file_path)"
      ],
      "execution_count": 7,
      "outputs": []
    },
    {
      "cell_type": "code",
      "metadata": {
        "colab": {
          "base_uri": "https://localhost:8080/",
          "height": 286
        },
        "id": "897RM8GLJryj",
        "outputId": "800d38a9-f844-4810-dfa9-4baddcc657bd"
      },
      "source": [
        "import matplotlib.pyplot as plt\n",
        "# Original audio with 1 channel \n",
        "plt.figure(figsize=(12, 4))\n",
        "plt.plot(librosa_audio_data)"
      ],
      "execution_count": 8,
      "outputs": [
        {
          "output_type": "execute_result",
          "data": {
            "text/plain": [
              "[<matplotlib.lines.Line2D at 0x7f62dde2fe90>]"
            ]
          },
          "metadata": {},
          "execution_count": 8
        },
        {
          "output_type": "display_data",
          "data": {
            "image/png": "[encoded data removed]",
            "text/plain": [
              "<Figure size 864x288 with 1 Axes>"
            ]
          },
          "metadata": {
            "needs_background": "light"
          }
        }
      ]
    },
    {
      "cell_type": "code",
      "metadata": {
        "colab": {
          "base_uri": "https://localhost:8080/"
        },
        "id": "p-c7oNfwJuFR",
        "outputId": "03032882-46c3-40e4-c4ac-0f0ec05c3938"
      },
      "source": [
        "mfccs = librosa.feature.mfcc(y=librosa_audio_data, sr=16000,n_mfcc=40)\n",
        "print(mfccs.shape)"
      ],
      "execution_count": 74,
      "outputs": [
        {
          "output_type": "stream",
          "name": "stdout",
          "text": [
            "(40, 47)\n"
          ]
        }
      ]
    },
    {
      "cell_type": "code",
      "metadata": {
        "colab": {
          "base_uri": "https://localhost:8080/"
        },
        "id": "k4gctTd0WLXF",
        "outputId": "353d7691-d03d-4c8e-b9ea-6936467719a1"
      },
      "source": [
        "mfccs"
      ],
      "execution_count": 75,
      "outputs": [
        {
          "output_type": "execute_result",
          "data": {
            "text/plain": [
              "array([[-6.3733392e+02, -6.3733392e+02, -6.3733392e+02, ...,\n",
              "        -5.0931870e+02, -5.2096875e+02, -5.2436786e+02],\n",
              "       [ 0.0000000e+00,  0.0000000e+00,  0.0000000e+00, ...,\n",
              "         1.1453654e+02,  9.4865479e+01,  8.7488068e+01],\n",
              "       [ 0.0000000e+00,  0.0000000e+00,  0.0000000e+00, ...,\n",
              "         2.2283867e+01,  1.0358049e+01,  4.1531157e+00],\n",
              "       ...,\n",
              "       [ 0.0000000e+00,  0.0000000e+00,  0.0000000e+00, ...,\n",
              "         4.0150423e+00, -1.4642328e+00, -9.4745451e-01],\n",
              "       [ 0.0000000e+00,  0.0000000e+00,  0.0000000e+00, ...,\n",
              "         6.0184813e+00,  3.0144219e+00,  1.9011706e+00],\n",
              "       [ 0.0000000e+00,  0.0000000e+00,  0.0000000e+00, ...,\n",
              "         3.7469411e+00,  4.4189682e+00, -3.1895787e-02]], dtype=float32)"
            ]
          },
          "metadata": {},
          "execution_count": 75
        }
      ]
    },
    {
      "cell_type": "code",
      "metadata": {
        "id": "lh9Ldfn1JuQe"
      },
      "source": [
        "def features_extractor(file):\n",
        "    audio, sample_rate = librosa.load(file_name, res_type='kaiser_fast') \n",
        "    mfccs_features = librosa.feature.mfcc(y=audio, sr=16000,n_mfcc=40)\n",
        "    mfccs_scaled_features = np.mean(mfccs_features.T,axis=0)\n",
        "    \n",
        "    return mfccs_scaled_features"
      ],
      "execution_count": 76,
      "outputs": []
    },
    {
      "cell_type": "code",
      "metadata": {
        "colab": {
          "base_uri": "https://localhost:8080/"
        },
        "id": "Z94Z6mkRKGhi",
        "outputId": "19815723-c3c8-4cde-c5c7-5175006a3fea"
      },
      "source": [
        "import os\n",
        "import numpy as np\n",
        "from tqdm import tqdm\n",
        "### Now we iterate through every audio file and extract features \n",
        "### using Mel-Frequency Cepstral Coefficients\n",
        "extracted_features=[]\n",
        "for index_num,row in tqdm(d.iterrows()):\n",
        "    file_name = os.path.join(os.path.abspath(audio),str(row[\"Sound\"]))\n",
        "    final_class_labels=row[\"Label\"]\n",
        "    data=features_extractor(file_name)\n",
        "    extracted_features.append([data,final_class_labels])"
      ],
      "execution_count": 77,
      "outputs": [
        {
          "output_type": "stream",
          "name": "stderr",
          "text": [
            "211it [00:04, 44.50it/s]\n"
          ]
        }
      ]
    },
    {
      "cell_type": "code",
      "metadata": {
        "colab": {
          "base_uri": "https://localhost:8080/",
          "height": 232
        },
        "id": "l0qYUDutK99W",
        "outputId": "dcf6adc1-2626-4ee6-a2ff-b9d2b0d172e1"
      },
      "source": [
        "extracted_features_df=pd.DataFrame(extracted_features,columns=['feature','Label'])\n",
        "extracted_features_df.head()"
      ],
      "execution_count": 110,
      "outputs": [
        {
          "output_type": "execute_result",
          "data": {
            "text/html": [
              "<div>\n",
              "<style scoped>\n",
              "    .dataframe tbody tr th:only-of-type {\n",
              "        vertical-align: middle;\n",
              "    }\n",
              "\n",
              "    .dataframe tbody tr th {\n",
              "        vertical-align: top;\n",
              "    }\n",
              "\n",
              "    .dataframe thead th {\n",
              "        text-align: right;\n",
              "    }\n",
              "</style>\n",
              "<table border=\"1\" class=\"dataframe\">\n",
              "  <thead>\n",
              "    <tr style=\"text-align: right;\">\n",
              "      <th></th>\n",
              "      <th>feature</th>\n",
              "      <th>Label</th>\n",
              "    </tr>\n",
              "  </thead>\n",
              "  <tbody>\n",
              "    <tr>\n",
              "      <th>0</th>\n",
              "      <td>[-384.18805, 189.30464, -19.617859, -0.0232861...</td>\n",
              "      <td>Namaskar</td>\n",
              "    </tr>\n",
              "    <tr>\n",
              "      <th>1</th>\n",
              "      <td>[-368.5589, 196.48805, -30.281378, 0.92036843,...</td>\n",
              "      <td>Namaskar</td>\n",
              "    </tr>\n",
              "    <tr>\n",
              "      <th>2</th>\n",
              "      <td>[-406.32217, 186.55807, -24.159048, 0.18557848...</td>\n",
              "      <td>Namaskar</td>\n",
              "    </tr>\n",
              "    <tr>\n",
              "      <th>3</th>\n",
              "      <td>[-435.14105, 166.14139, -18.402683, -5.0251703...</td>\n",
              "      <td>Namaskar</td>\n",
              "    </tr>\n",
              "    <tr>\n",
              "      <th>4</th>\n",
              "      <td>[-326.56314, 196.70654, -19.21339, -3.6072223,...</td>\n",
              "      <td>Namaskar</td>\n",
              "    </tr>\n",
              "  </tbody>\n",
              "</table>\n",
              "</div>"
            ],
            "text/plain": [
              "                                             feature     Label\n",
              "0  [-384.18805, 189.30464, -19.617859, -0.0232861...  Namaskar\n",
              "1  [-368.5589, 196.48805, -30.281378, 0.92036843,...  Namaskar\n",
              "2  [-406.32217, 186.55807, -24.159048, 0.18557848...  Namaskar\n",
              "3  [-435.14105, 166.14139, -18.402683, -5.0251703...  Namaskar\n",
              "4  [-326.56314, 196.70654, -19.21339, -3.6072223,...  Namaskar"
            ]
          },
          "metadata": {},
          "execution_count": 110
        }
      ]
    },
    {
      "cell_type": "code",
      "metadata": {
        "id": "9heOyjcxLKBg"
      },
      "source": [
        "### Split the dataset into independent and dependent dataset\n",
        "X=np.array(extracted_features_df['feature'].tolist())\n",
        "y=np.array(extracted_features_df['Label'].tolist())"
      ],
      "execution_count": 111,
      "outputs": []
    },
    {
      "cell_type": "code",
      "metadata": {
        "colab": {
          "base_uri": "https://localhost:8080/"
        },
        "id": "r-to6OtqLNmX",
        "outputId": "8e9bfacb-63d1-4480-807e-d38943698b9f"
      },
      "source": [
        "X.shape"
      ],
      "execution_count": 113,
      "outputs": [
        {
          "output_type": "execute_result",
          "data": {
            "text/plain": [
              "(211, 40)"
            ]
          },
          "metadata": {},
          "execution_count": 113
        }
      ]
    },
    {
      "cell_type": "code",
      "metadata": {
        "colab": {
          "base_uri": "https://localhost:8080/"
        },
        "id": "Vz8sOmPsLViI",
        "outputId": "7bbe573a-3b76-4219-e6b9-ab6de4281623"
      },
      "source": [
        "y.shape"
      ],
      "execution_count": 114,
      "outputs": [
        {
          "output_type": "execute_result",
          "data": {
            "text/plain": [
              "(211,)"
            ]
          },
          "metadata": {},
          "execution_count": 114
        }
      ]
    },
    {
      "cell_type": "code",
      "metadata": {
        "id": "s3JwEVSumA43"
      },
      "source": [
        "from tensorflow.keras.utils import to_categorical\n",
        "from sklearn.preprocessing import LabelEncoder\n",
        "labelencoder=LabelEncoder()\n",
        "y=to_categorical(labelencoder.fit_transform(y))"
      ],
      "execution_count": 115,
      "outputs": []
    },
    {
      "cell_type": "code",
      "metadata": {
        "colab": {
          "base_uri": "https://localhost:8080/"
        },
        "id": "revATowemEn0",
        "outputId": "72318e3b-872a-4240-83af-756e74330168"
      },
      "source": [
        "y"
      ],
      "execution_count": 116,
      "outputs": [
        {
          "output_type": "execute_result",
          "data": {
            "text/plain": [
              "array([[0., 0., 1., ..., 0., 0., 0.],\n",
              "       [0., 0., 1., ..., 0., 0., 0.],\n",
              "       [0., 0., 1., ..., 0., 0., 0.],\n",
              "       ...,\n",
              "       [0., 0., 0., ..., 0., 1., 0.],\n",
              "       [0., 0., 0., ..., 0., 1., 0.],\n",
              "       [0., 0., 0., ..., 0., 1., 0.]], dtype=float32)"
            ]
          },
          "metadata": {},
          "execution_count": 116
        }
      ]
    },
    {
      "cell_type": "code",
      "metadata": {
        "id": "f1tY-L3wLXt0"
      },
      "source": [
        "### Train Test Split\n",
        "from sklearn.model_selection import train_test_split\n",
        "X_train,X_test,y_train,y_test=train_test_split(X,y,test_size=0.2,random_state=0)"
      ],
      "execution_count": 117,
      "outputs": []
    },
    {
      "cell_type": "code",
      "metadata": {
        "colab": {
          "base_uri": "https://localhost:8080/"
        },
        "id": "1RIdVKBJMV4w",
        "outputId": "d3b5cc2a-1975-475f-df81-9c11655d3008"
      },
      "source": [
        "X_train.shape"
      ],
      "execution_count": 118,
      "outputs": [
        {
          "output_type": "execute_result",
          "data": {
            "text/plain": [
              "(168, 40)"
            ]
          },
          "metadata": {},
          "execution_count": 118
        }
      ]
    },
    {
      "cell_type": "code",
      "metadata": {
        "colab": {
          "base_uri": "https://localhost:8080/"
        },
        "id": "OJG6tHOLMZKU",
        "outputId": "1d180321-a7e5-49d4-8f72-4fde3452890f"
      },
      "source": [
        "X_test.shape"
      ],
      "execution_count": 119,
      "outputs": [
        {
          "output_type": "execute_result",
          "data": {
            "text/plain": [
              "(43, 40)"
            ]
          },
          "metadata": {},
          "execution_count": 119
        }
      ]
    },
    {
      "cell_type": "code",
      "metadata": {
        "colab": {
          "base_uri": "https://localhost:8080/"
        },
        "id": "r4YA5ENAMacU",
        "outputId": "53166e8d-5b35-4be0-a763-572c197396c0"
      },
      "source": [
        "y_train.shape"
      ],
      "execution_count": 120,
      "outputs": [
        {
          "output_type": "execute_result",
          "data": {
            "text/plain": [
              "(168, 7)"
            ]
          },
          "metadata": {},
          "execution_count": 120
        }
      ]
    },
    {
      "cell_type": "code",
      "metadata": {
        "colab": {
          "base_uri": "https://localhost:8080/"
        },
        "id": "iQejorokMco8",
        "outputId": "1eb2023e-6835-4932-832d-cf2d0cdc3d5c"
      },
      "source": [
        "y_test.shape"
      ],
      "execution_count": 121,
      "outputs": [
        {
          "output_type": "execute_result",
          "data": {
            "text/plain": [
              "(43, 7)"
            ]
          },
          "metadata": {},
          "execution_count": 121
        }
      ]
    },
    {
      "cell_type": "markdown",
      "metadata": {
        "id": "46QHlQquMkWY"
      },
      "source": [
        "**MODEL CREATION**"
      ]
    },
    {
      "cell_type": "code",
      "metadata": {
        "colab": {
          "base_uri": "https://localhost:8080/"
        },
        "id": "Yl7WxTW37eVl",
        "outputId": "ae983ee5-7980-4a86-86bc-4595b85c42a8"
      },
      "source": [
        "import tensorflow as tf\n",
        "print(tf.__version__)"
      ],
      "execution_count": 122,
      "outputs": [
        {
          "output_type": "stream",
          "name": "stdout",
          "text": [
            "2.6.0\n"
          ]
        }
      ]
    },
    {
      "cell_type": "code",
      "metadata": {
        "id": "hO4XD5s476Np"
      },
      "source": [
        "from tensorflow.keras.models import Sequential\n",
        "from tensorflow.keras.layers import Dense,Dropout,Activation,Flatten\n",
        "from tensorflow.keras.optimizers import Adam\n",
        "from sklearn import metrics"
      ],
      "execution_count": 123,
      "outputs": []
    },
    {
      "cell_type": "code",
      "metadata": {
        "id": "_4TyOGAT7_Cw"
      },
      "source": [
        "### No of classes\n",
        "num_labels=y.shape[1]"
      ],
      "execution_count": 124,
      "outputs": []
    },
    {
      "cell_type": "code",
      "metadata": {
        "colab": {
          "base_uri": "https://localhost:8080/"
        },
        "id": "NEOaueTevOCu",
        "outputId": "d5793e6e-7666-4a23-bb3c-c91609666497"
      },
      "source": [
        "num_labels"
      ],
      "execution_count": 126,
      "outputs": [
        {
          "output_type": "execute_result",
          "data": {
            "text/plain": [
              "7"
            ]
          },
          "metadata": {},
          "execution_count": 126
        }
      ]
    },
    {
      "cell_type": "code",
      "metadata": {
        "id": "fievD2N1-x6q"
      },
      "source": [
        "model=Sequential()\n",
        "###first layer\n",
        "model.add(Dense(100,input_shape=(40,)))\n",
        "model.add(Activation('relu'))\n",
        "model.add(Dropout(0.5))"
      ],
      "execution_count": 125,
      "outputs": []
    },
    {
      "cell_type": "code",
      "metadata": {
        "id": "mr8BaTjsv-dV"
      },
      "source": [
        "##second Layer\n",
        "model.add(Dense(100))\n",
        "model.add(Activation('relu'))\n",
        "model.add(Dropout(0.5))"
      ],
      "execution_count": 127,
      "outputs": []
    },
    {
      "cell_type": "code",
      "metadata": {
        "id": "Cicux3jYwC8K"
      },
      "source": [
        "model.add(Dense(num_labels))\n",
        "model.add(Activation('softmax'))"
      ],
      "execution_count": 128,
      "outputs": []
    },
    {
      "cell_type": "code",
      "metadata": {
        "colab": {
          "base_uri": "https://localhost:8080/"
        },
        "id": "k49lF10ZwGSi",
        "outputId": "02e138d4-61f9-440e-9d97-cc32519c87e3"
      },
      "source": [
        "\n",
        "model.summary()"
      ],
      "execution_count": 129,
      "outputs": [
        {
          "output_type": "stream",
          "name": "stdout",
          "text": [
            "Model: \"sequential_3\"\n",
            "_________________________________________________________________\n",
            "Layer (type)                 Output Shape              Param #   \n",
            "=================================================================\n",
            "dense_7 (Dense)              (None, 100)               4100      \n",
            "_________________________________________________________________\n",
            "activation_7 (Activation)    (None, 100)               0         \n",
            "_________________________________________________________________\n",
            "dropout_5 (Dropout)          (None, 100)               0         \n",
            "_________________________________________________________________\n",
            "dense_8 (Dense)              (None, 100)               10100     \n",
            "_________________________________________________________________\n",
            "activation_8 (Activation)    (None, 100)               0         \n",
            "_________________________________________________________________\n",
            "dropout_6 (Dropout)          (None, 100)               0         \n",
            "_________________________________________________________________\n",
            "dense_9 (Dense)              (None, 7)                 707       \n",
            "_________________________________________________________________\n",
            "activation_9 (Activation)    (None, 7)                 0         \n",
            "=================================================================\n",
            "Total params: 14,907\n",
            "Trainable params: 14,907\n",
            "Non-trainable params: 0\n",
            "_________________________________________________________________\n"
          ]
        }
      ]
    },
    {
      "cell_type": "code",
      "metadata": {
        "id": "gticOumqwco3"
      },
      "source": [
        "model.compile(loss='categorical_crossentropy',metrics=['accuracy'],optimizer='adam')"
      ],
      "execution_count": 130,
      "outputs": []
    },
    {
      "cell_type": "code",
      "metadata": {
        "colab": {
          "base_uri": "https://localhost:8080/"
        },
        "id": "tn9JIFmFwqcH",
        "outputId": "e0dcb387-af52-4a31-d355-a33db4880f13"
      },
      "source": [
        "## Training my model\n",
        "from tensorflow.keras.callbacks import ModelCheckpoint\n",
        "from datetime import datetime \n",
        "\n",
        "num_epochs = 500\n",
        "num_batch_size = 2\n",
        "\n",
        "start = datetime.now()\n",
        "\n",
        "model.fit(X_train, y_train, batch_size=num_batch_size, epochs=num_epochs, validation_data=(X_test, y_test), verbose=1)\n",
        "\n",
        "\n",
        "duration = datetime.now() - start\n",
        "print(\"Training completed in time: \", duration)"
      ],
      "execution_count": 131,
      "outputs": [
        {
          "output_type": "stream",
          "name": "stdout",
          "text": [
            "Epoch 1/500\n",
            "84/84 [==============================] - 1s 4ms/step - loss: 76.3127 - accuracy: 0.2262 - val_loss: 23.8133 - val_accuracy: 0.2093\n",
            "Epoch 2/500\n",
            "84/84 [==============================] - 0s 2ms/step - loss: 49.5794 - accuracy: 0.1488 - val_loss: 7.9003 - val_accuracy: 0.3953\n",
            "Epoch 3/500\n",
            "84/84 [==============================] - 0s 2ms/step - loss: 32.6633 - accuracy: 0.2083 - val_loss: 4.4728 - val_accuracy: 0.3488\n",
            "Epoch 4/500\n",
            "84/84 [==============================] - 0s 3ms/step - loss: 20.8897 - accuracy: 0.1964 - val_loss: 2.0251 - val_accuracy: 0.4651\n",
            "Epoch 5/500\n",
            "84/84 [==============================] - 0s 2ms/step - loss: 14.8489 - accuracy: 0.1964 - val_loss: 2.0465 - val_accuracy: 0.2093\n",
            "Epoch 6/500\n",
            "84/84 [==============================] - 0s 2ms/step - loss: 10.1595 - accuracy: 0.2500 - val_loss: 1.7869 - val_accuracy: 0.2326\n",
            "Epoch 7/500\n",
            "84/84 [==============================] - 0s 2ms/step - loss: 7.0881 - accuracy: 0.2857 - val_loss: 1.6236 - val_accuracy: 0.1860\n",
            "Epoch 8/500\n",
            "84/84 [==============================] - 0s 2ms/step - loss: 5.9170 - accuracy: 0.3036 - val_loss: 1.7562 - val_accuracy: 0.1860\n",
            "Epoch 9/500\n",
            "84/84 [==============================] - 0s 2ms/step - loss: 4.4647 - accuracy: 0.3214 - val_loss: 1.6995 - val_accuracy: 0.3023\n",
            "Epoch 10/500\n",
            "84/84 [==============================] - 0s 2ms/step - loss: 4.3577 - accuracy: 0.2381 - val_loss: 1.7918 - val_accuracy: 0.1395\n",
            "Epoch 11/500\n",
            "84/84 [==============================] - 0s 2ms/step - loss: 3.7069 - accuracy: 0.2560 - val_loss: 1.7714 - val_accuracy: 0.1860\n",
            "Epoch 12/500\n",
            "84/84 [==============================] - 0s 2ms/step - loss: 3.2051 - accuracy: 0.2738 - val_loss: 1.8273 - val_accuracy: 0.2558\n",
            "Epoch 13/500\n",
            "84/84 [==============================] - 0s 2ms/step - loss: 2.9871 - accuracy: 0.3214 - val_loss: 1.7700 - val_accuracy: 0.2326\n",
            "Epoch 14/500\n",
            "84/84 [==============================] - 0s 2ms/step - loss: 3.1151 - accuracy: 0.2321 - val_loss: 1.8226 - val_accuracy: 0.2791\n",
            "Epoch 15/500\n",
            "84/84 [==============================] - 0s 3ms/step - loss: 2.4009 - accuracy: 0.2976 - val_loss: 1.8367 - val_accuracy: 0.2558\n",
            "Epoch 16/500\n",
            "84/84 [==============================] - 0s 2ms/step - loss: 2.2397 - accuracy: 0.3631 - val_loss: 1.8030 - val_accuracy: 0.3953\n",
            "Epoch 17/500\n",
            "84/84 [==============================] - 0s 2ms/step - loss: 2.3128 - accuracy: 0.3274 - val_loss: 1.7682 - val_accuracy: 0.2558\n",
            "Epoch 18/500\n",
            "84/84 [==============================] - 0s 2ms/step - loss: 2.3617 - accuracy: 0.2560 - val_loss: 1.7937 - val_accuracy: 0.3488\n",
            "Epoch 19/500\n",
            "84/84 [==============================] - 0s 2ms/step - loss: 2.2487 - accuracy: 0.2798 - val_loss: 1.7817 - val_accuracy: 0.3488\n",
            "Epoch 20/500\n",
            "84/84 [==============================] - 0s 2ms/step - loss: 2.0224 - accuracy: 0.3214 - val_loss: 1.7061 - val_accuracy: 0.4186\n",
            "Epoch 21/500\n",
            "84/84 [==============================] - 0s 2ms/step - loss: 2.0781 - accuracy: 0.3452 - val_loss: 1.7283 - val_accuracy: 0.2791\n",
            "Epoch 22/500\n",
            "84/84 [==============================] - 0s 3ms/step - loss: 2.0272 - accuracy: 0.3393 - val_loss: 1.7525 - val_accuracy: 0.3488\n",
            "Epoch 23/500\n",
            "84/84 [==============================] - 0s 2ms/step - loss: 1.7940 - accuracy: 0.3393 - val_loss: 1.6616 - val_accuracy: 0.4651\n",
            "Epoch 24/500\n",
            "84/84 [==============================] - 0s 2ms/step - loss: 1.8216 - accuracy: 0.3929 - val_loss: 1.6062 - val_accuracy: 0.4884\n",
            "Epoch 25/500\n",
            "84/84 [==============================] - 0s 2ms/step - loss: 1.8855 - accuracy: 0.3869 - val_loss: 1.5676 - val_accuracy: 0.3953\n",
            "Epoch 26/500\n",
            "84/84 [==============================] - 0s 2ms/step - loss: 1.7764 - accuracy: 0.3750 - val_loss: 1.6043 - val_accuracy: 0.3953\n",
            "Epoch 27/500\n",
            "84/84 [==============================] - 0s 2ms/step - loss: 1.7051 - accuracy: 0.3929 - val_loss: 1.5410 - val_accuracy: 0.4186\n",
            "Epoch 28/500\n",
            "84/84 [==============================] - 0s 2ms/step - loss: 1.7410 - accuracy: 0.4167 - val_loss: 1.6091 - val_accuracy: 0.3953\n",
            "Epoch 29/500\n",
            "84/84 [==============================] - 0s 2ms/step - loss: 1.7366 - accuracy: 0.3274 - val_loss: 1.5707 - val_accuracy: 0.3953\n",
            "Epoch 30/500\n",
            "84/84 [==============================] - 0s 2ms/step - loss: 1.5314 - accuracy: 0.3988 - val_loss: 1.4753 - val_accuracy: 0.4419\n",
            "Epoch 31/500\n",
            "84/84 [==============================] - 0s 2ms/step - loss: 1.5525 - accuracy: 0.4583 - val_loss: 1.3198 - val_accuracy: 0.4651\n",
            "Epoch 32/500\n",
            "84/84 [==============================] - 0s 2ms/step - loss: 1.7023 - accuracy: 0.3929 - val_loss: 1.3645 - val_accuracy: 0.3721\n",
            "Epoch 33/500\n",
            "84/84 [==============================] - 0s 2ms/step - loss: 1.4698 - accuracy: 0.4524 - val_loss: 1.4192 - val_accuracy: 0.4419\n",
            "Epoch 34/500\n",
            "84/84 [==============================] - 0s 2ms/step - loss: 1.4564 - accuracy: 0.4286 - val_loss: 1.2734 - val_accuracy: 0.4884\n",
            "Epoch 35/500\n",
            "84/84 [==============================] - 0s 2ms/step - loss: 1.3625 - accuracy: 0.4226 - val_loss: 1.1535 - val_accuracy: 0.6047\n",
            "Epoch 36/500\n",
            "84/84 [==============================] - 0s 2ms/step - loss: 1.3571 - accuracy: 0.4881 - val_loss: 1.0938 - val_accuracy: 0.5116\n",
            "Epoch 37/500\n",
            "84/84 [==============================] - 0s 2ms/step - loss: 1.3756 - accuracy: 0.4643 - val_loss: 1.1990 - val_accuracy: 0.5116\n",
            "Epoch 38/500\n",
            "84/84 [==============================] - 0s 2ms/step - loss: 1.2643 - accuracy: 0.5119 - val_loss: 1.1217 - val_accuracy: 0.6279\n",
            "Epoch 39/500\n",
            "84/84 [==============================] - 0s 2ms/step - loss: 1.3306 - accuracy: 0.5536 - val_loss: 0.9955 - val_accuracy: 0.6512\n",
            "Epoch 40/500\n",
            "84/84 [==============================] - 0s 2ms/step - loss: 1.2759 - accuracy: 0.5476 - val_loss: 0.9839 - val_accuracy: 0.7209\n",
            "Epoch 41/500\n",
            "84/84 [==============================] - 0s 2ms/step - loss: 1.3401 - accuracy: 0.5298 - val_loss: 0.8871 - val_accuracy: 0.6977\n",
            "Epoch 42/500\n",
            "84/84 [==============================] - 0s 2ms/step - loss: 1.2325 - accuracy: 0.5417 - val_loss: 0.8384 - val_accuracy: 0.7442\n",
            "Epoch 43/500\n",
            "84/84 [==============================] - 0s 2ms/step - loss: 1.2184 - accuracy: 0.5357 - val_loss: 0.8557 - val_accuracy: 0.7907\n",
            "Epoch 44/500\n",
            "84/84 [==============================] - 0s 2ms/step - loss: 1.3105 - accuracy: 0.4583 - val_loss: 0.8628 - val_accuracy: 0.7209\n",
            "Epoch 45/500\n",
            "84/84 [==============================] - 0s 2ms/step - loss: 1.0611 - accuracy: 0.5774 - val_loss: 0.7167 - val_accuracy: 0.7907\n",
            "Epoch 46/500\n",
            "84/84 [==============================] - 0s 2ms/step - loss: 1.0866 - accuracy: 0.5774 - val_loss: 0.6790 - val_accuracy: 0.7674\n",
            "Epoch 47/500\n",
            "84/84 [==============================] - 0s 2ms/step - loss: 0.9537 - accuracy: 0.6429 - val_loss: 0.7173 - val_accuracy: 0.8140\n",
            "Epoch 48/500\n",
            "84/84 [==============================] - 0s 2ms/step - loss: 1.2461 - accuracy: 0.5893 - val_loss: 0.6680 - val_accuracy: 0.8605\n",
            "Epoch 49/500\n",
            "84/84 [==============================] - 0s 2ms/step - loss: 1.1631 - accuracy: 0.5119 - val_loss: 0.7311 - val_accuracy: 0.7907\n",
            "Epoch 50/500\n",
            "84/84 [==============================] - 0s 2ms/step - loss: 1.1044 - accuracy: 0.6012 - val_loss: 0.6385 - val_accuracy: 0.8837\n",
            "Epoch 51/500\n",
            "84/84 [==============================] - 0s 2ms/step - loss: 1.0465 - accuracy: 0.5952 - val_loss: 0.6232 - val_accuracy: 0.8605\n",
            "Epoch 52/500\n",
            "84/84 [==============================] - 0s 2ms/step - loss: 0.9072 - accuracy: 0.6607 - val_loss: 0.5739 - val_accuracy: 0.8837\n",
            "Epoch 53/500\n",
            "84/84 [==============================] - 0s 2ms/step - loss: 0.9632 - accuracy: 0.6369 - val_loss: 0.6205 - val_accuracy: 0.9070\n",
            "Epoch 54/500\n",
            "84/84 [==============================] - 0s 3ms/step - loss: 0.8579 - accuracy: 0.6786 - val_loss: 0.5672 - val_accuracy: 0.8605\n",
            "Epoch 55/500\n",
            "84/84 [==============================] - 0s 2ms/step - loss: 0.9045 - accuracy: 0.6548 - val_loss: 0.4574 - val_accuracy: 0.9767\n",
            "Epoch 56/500\n",
            "84/84 [==============================] - 0s 2ms/step - loss: 0.8932 - accuracy: 0.6429 - val_loss: 0.5757 - val_accuracy: 0.9070\n",
            "Epoch 57/500\n",
            "84/84 [==============================] - 0s 2ms/step - loss: 0.9917 - accuracy: 0.6429 - val_loss: 0.5708 - val_accuracy: 0.8372\n",
            "Epoch 58/500\n",
            "84/84 [==============================] - 0s 2ms/step - loss: 0.9052 - accuracy: 0.6369 - val_loss: 0.4737 - val_accuracy: 0.8605\n",
            "Epoch 59/500\n",
            "84/84 [==============================] - 0s 2ms/step - loss: 0.9383 - accuracy: 0.6250 - val_loss: 0.4384 - val_accuracy: 0.8605\n",
            "Epoch 60/500\n",
            "84/84 [==============================] - 0s 2ms/step - loss: 0.7935 - accuracy: 0.7083 - val_loss: 0.3813 - val_accuracy: 0.9767\n",
            "Epoch 61/500\n",
            "84/84 [==============================] - 0s 2ms/step - loss: 0.7555 - accuracy: 0.7024 - val_loss: 0.3675 - val_accuracy: 0.9535\n",
            "Epoch 62/500\n",
            "84/84 [==============================] - 0s 2ms/step - loss: 0.9542 - accuracy: 0.7262 - val_loss: 0.3576 - val_accuracy: 0.9535\n",
            "Epoch 63/500\n",
            "84/84 [==============================] - 0s 2ms/step - loss: 0.7331 - accuracy: 0.7024 - val_loss: 0.3864 - val_accuracy: 0.9070\n",
            "Epoch 64/500\n",
            "84/84 [==============================] - 0s 2ms/step - loss: 0.7106 - accuracy: 0.7440 - val_loss: 0.4434 - val_accuracy: 0.8605\n",
            "Epoch 65/500\n",
            "84/84 [==============================] - 0s 2ms/step - loss: 0.8407 - accuracy: 0.6845 - val_loss: 0.3921 - val_accuracy: 0.8837\n",
            "Epoch 66/500\n",
            "84/84 [==============================] - 0s 2ms/step - loss: 0.7476 - accuracy: 0.7202 - val_loss: 0.4063 - val_accuracy: 0.9302\n",
            "Epoch 67/500\n",
            "84/84 [==============================] - 0s 2ms/step - loss: 0.7245 - accuracy: 0.7262 - val_loss: 0.4102 - val_accuracy: 0.8372\n",
            "Epoch 68/500\n",
            "84/84 [==============================] - 0s 2ms/step - loss: 0.6995 - accuracy: 0.7560 - val_loss: 0.3284 - val_accuracy: 0.9070\n",
            "Epoch 69/500\n",
            "84/84 [==============================] - 0s 2ms/step - loss: 0.7265 - accuracy: 0.7440 - val_loss: 0.4089 - val_accuracy: 0.8605\n",
            "Epoch 70/500\n",
            "84/84 [==============================] - 0s 2ms/step - loss: 0.6617 - accuracy: 0.7143 - val_loss: 0.3033 - val_accuracy: 0.9302\n",
            "Epoch 71/500\n",
            "84/84 [==============================] - 0s 2ms/step - loss: 0.8037 - accuracy: 0.6964 - val_loss: 0.4531 - val_accuracy: 0.7209\n",
            "Epoch 72/500\n",
            "84/84 [==============================] - 0s 2ms/step - loss: 0.6931 - accuracy: 0.7440 - val_loss: 0.3997 - val_accuracy: 0.8372\n",
            "Epoch 73/500\n",
            "84/84 [==============================] - 0s 2ms/step - loss: 0.9268 - accuracy: 0.6131 - val_loss: 0.3222 - val_accuracy: 0.9535\n",
            "Epoch 74/500\n",
            "84/84 [==============================] - 0s 2ms/step - loss: 0.6593 - accuracy: 0.7560 - val_loss: 0.2865 - val_accuracy: 0.9302\n",
            "Epoch 75/500\n",
            "84/84 [==============================] - 0s 3ms/step - loss: 0.6329 - accuracy: 0.7738 - val_loss: 0.3669 - val_accuracy: 0.8372\n",
            "Epoch 76/500\n",
            "84/84 [==============================] - 0s 2ms/step - loss: 0.6063 - accuracy: 0.7560 - val_loss: 0.3525 - val_accuracy: 0.9070\n",
            "Epoch 77/500\n",
            "84/84 [==============================] - 0s 2ms/step - loss: 0.6947 - accuracy: 0.7500 - val_loss: 0.3237 - val_accuracy: 0.9302\n",
            "Epoch 78/500\n",
            "84/84 [==============================] - 0s 2ms/step - loss: 0.5621 - accuracy: 0.7917 - val_loss: 0.3226 - val_accuracy: 0.8837\n",
            "Epoch 79/500\n",
            "84/84 [==============================] - 0s 2ms/step - loss: 0.7220 - accuracy: 0.7560 - val_loss: 0.2615 - val_accuracy: 0.9535\n",
            "Epoch 80/500\n",
            "84/84 [==============================] - 0s 2ms/step - loss: 0.6151 - accuracy: 0.7976 - val_loss: 0.3017 - val_accuracy: 0.9070\n",
            "Epoch 81/500\n",
            "84/84 [==============================] - 0s 2ms/step - loss: 0.6671 - accuracy: 0.7857 - val_loss: 0.3605 - val_accuracy: 0.8605\n",
            "Epoch 82/500\n",
            "84/84 [==============================] - 0s 2ms/step - loss: 0.7458 - accuracy: 0.7560 - val_loss: 0.3207 - val_accuracy: 0.8605\n",
            "Epoch 83/500\n",
            "84/84 [==============================] - 0s 2ms/step - loss: 0.5830 - accuracy: 0.7798 - val_loss: 0.3574 - val_accuracy: 0.8837\n",
            "Epoch 84/500\n",
            "84/84 [==============================] - 0s 2ms/step - loss: 0.7563 - accuracy: 0.7500 - val_loss: 0.2959 - val_accuracy: 0.9302\n",
            "Epoch 85/500\n",
            "84/84 [==============================] - 0s 2ms/step - loss: 0.7899 - accuracy: 0.7500 - val_loss: 0.3654 - val_accuracy: 0.8605\n",
            "Epoch 86/500\n",
            "84/84 [==============================] - 0s 2ms/step - loss: 0.4857 - accuracy: 0.8274 - val_loss: 0.3865 - val_accuracy: 0.9070\n",
            "Epoch 87/500\n",
            "84/84 [==============================] - 0s 2ms/step - loss: 0.5507 - accuracy: 0.8036 - val_loss: 0.3436 - val_accuracy: 0.8372\n",
            "Epoch 88/500\n",
            "84/84 [==============================] - 0s 2ms/step - loss: 0.5641 - accuracy: 0.7976 - val_loss: 0.2398 - val_accuracy: 0.8837\n",
            "Epoch 89/500\n",
            "84/84 [==============================] - 0s 2ms/step - loss: 0.6122 - accuracy: 0.7798 - val_loss: 0.3256 - val_accuracy: 0.8605\n",
            "Epoch 90/500\n",
            "84/84 [==============================] - 0s 2ms/step - loss: 0.6433 - accuracy: 0.7738 - val_loss: 0.3239 - val_accuracy: 0.9302\n",
            "Epoch 91/500\n",
            "84/84 [==============================] - 0s 2ms/step - loss: 0.5765 - accuracy: 0.7679 - val_loss: 0.3164 - val_accuracy: 0.9070\n",
            "Epoch 92/500\n",
            "84/84 [==============================] - 0s 2ms/step - loss: 0.6264 - accuracy: 0.7738 - val_loss: 0.2518 - val_accuracy: 0.9070\n",
            "Epoch 93/500\n",
            "84/84 [==============================] - 0s 2ms/step - loss: 0.6205 - accuracy: 0.7560 - val_loss: 0.2949 - val_accuracy: 0.8837\n",
            "Epoch 94/500\n",
            "84/84 [==============================] - 0s 2ms/step - loss: 0.5121 - accuracy: 0.8155 - val_loss: 0.2012 - val_accuracy: 0.9302\n",
            "Epoch 95/500\n",
            "84/84 [==============================] - 0s 2ms/step - loss: 0.5034 - accuracy: 0.7917 - val_loss: 0.1911 - val_accuracy: 0.9535\n",
            "Epoch 96/500\n",
            "84/84 [==============================] - 0s 2ms/step - loss: 0.5719 - accuracy: 0.7917 - val_loss: 0.2351 - val_accuracy: 0.9535\n",
            "Epoch 97/500\n",
            "84/84 [==============================] - 0s 2ms/step - loss: 0.6489 - accuracy: 0.7917 - val_loss: 0.2258 - val_accuracy: 0.9302\n",
            "Epoch 98/500\n",
            "84/84 [==============================] - 0s 2ms/step - loss: 0.5463 - accuracy: 0.7798 - val_loss: 0.2385 - val_accuracy: 0.9535\n",
            "Epoch 99/500\n",
            "84/84 [==============================] - 0s 2ms/step - loss: 0.6363 - accuracy: 0.7738 - val_loss: 0.3280 - val_accuracy: 0.8837\n",
            "Epoch 100/500\n",
            "84/84 [==============================] - 0s 2ms/step - loss: 0.5401 - accuracy: 0.8452 - val_loss: 0.2129 - val_accuracy: 0.9535\n",
            "Epoch 101/500\n",
            "84/84 [==============================] - 0s 2ms/step - loss: 0.6180 - accuracy: 0.8036 - val_loss: 0.2138 - val_accuracy: 0.9302\n",
            "Epoch 102/500\n",
            "84/84 [==============================] - 0s 2ms/step - loss: 0.4416 - accuracy: 0.8631 - val_loss: 0.1546 - val_accuracy: 0.9767\n",
            "Epoch 103/500\n",
            "84/84 [==============================] - 0s 2ms/step - loss: 0.5230 - accuracy: 0.8155 - val_loss: 0.1934 - val_accuracy: 0.9302\n",
            "Epoch 104/500\n",
            "84/84 [==============================] - 0s 2ms/step - loss: 0.4650 - accuracy: 0.8214 - val_loss: 0.2093 - val_accuracy: 0.9535\n",
            "Epoch 105/500\n",
            "84/84 [==============================] - 0s 2ms/step - loss: 0.6936 - accuracy: 0.7738 - val_loss: 0.2922 - val_accuracy: 0.9535\n",
            "Epoch 106/500\n",
            "84/84 [==============================] - 0s 2ms/step - loss: 0.5529 - accuracy: 0.8036 - val_loss: 0.3154 - val_accuracy: 0.8837\n",
            "Epoch 107/500\n",
            "84/84 [==============================] - 0s 2ms/step - loss: 0.4375 - accuracy: 0.8393 - val_loss: 0.1793 - val_accuracy: 0.9767\n",
            "Epoch 108/500\n",
            "84/84 [==============================] - 0s 3ms/step - loss: 0.4969 - accuracy: 0.8214 - val_loss: 0.2503 - val_accuracy: 0.8837\n",
            "Epoch 109/500\n",
            "84/84 [==============================] - 0s 2ms/step - loss: 0.4344 - accuracy: 0.8690 - val_loss: 0.2254 - val_accuracy: 0.9070\n",
            "Epoch 110/500\n",
            "84/84 [==============================] - 0s 2ms/step - loss: 0.4193 - accuracy: 0.8274 - val_loss: 0.2252 - val_accuracy: 0.9535\n",
            "Epoch 111/500\n",
            "84/84 [==============================] - 0s 2ms/step - loss: 0.4239 - accuracy: 0.8452 - val_loss: 0.1485 - val_accuracy: 0.9535\n",
            "Epoch 112/500\n",
            "84/84 [==============================] - 0s 2ms/step - loss: 0.5805 - accuracy: 0.7976 - val_loss: 0.3544 - val_accuracy: 0.9302\n",
            "Epoch 113/500\n",
            "84/84 [==============================] - 0s 2ms/step - loss: 0.4052 - accuracy: 0.8274 - val_loss: 0.3159 - val_accuracy: 0.9070\n",
            "Epoch 114/500\n",
            "84/84 [==============================] - 0s 2ms/step - loss: 0.4185 - accuracy: 0.8690 - val_loss: 0.2168 - val_accuracy: 0.9302\n",
            "Epoch 115/500\n",
            "84/84 [==============================] - 0s 2ms/step - loss: 0.5902 - accuracy: 0.8095 - val_loss: 0.2873 - val_accuracy: 0.9302\n",
            "Epoch 116/500\n",
            "84/84 [==============================] - 0s 2ms/step - loss: 0.4482 - accuracy: 0.8690 - val_loss: 0.2128 - val_accuracy: 0.9302\n",
            "Epoch 117/500\n",
            "84/84 [==============================] - 0s 2ms/step - loss: 0.3389 - accuracy: 0.8929 - val_loss: 0.1684 - val_accuracy: 0.9302\n",
            "Epoch 118/500\n",
            "84/84 [==============================] - 0s 2ms/step - loss: 0.5007 - accuracy: 0.8333 - val_loss: 0.1398 - val_accuracy: 0.9767\n",
            "Epoch 119/500\n",
            "84/84 [==============================] - 0s 2ms/step - loss: 0.4576 - accuracy: 0.8393 - val_loss: 0.1902 - val_accuracy: 0.9767\n",
            "Epoch 120/500\n",
            "84/84 [==============================] - 0s 2ms/step - loss: 0.6262 - accuracy: 0.8155 - val_loss: 0.1449 - val_accuracy: 0.9302\n",
            "Epoch 121/500\n",
            "84/84 [==============================] - 0s 2ms/step - loss: 0.4941 - accuracy: 0.8393 - val_loss: 0.2373 - val_accuracy: 0.9070\n",
            "Epoch 122/500\n",
            "84/84 [==============================] - 0s 2ms/step - loss: 0.4200 - accuracy: 0.8393 - val_loss: 0.1167 - val_accuracy: 1.0000\n",
            "Epoch 123/500\n",
            "84/84 [==============================] - 0s 2ms/step - loss: 0.5107 - accuracy: 0.8155 - val_loss: 0.1323 - val_accuracy: 1.0000\n",
            "Epoch 124/500\n",
            "84/84 [==============================] - 0s 2ms/step - loss: 0.3962 - accuracy: 0.8452 - val_loss: 0.2666 - val_accuracy: 0.8837\n",
            "Epoch 125/500\n",
            "84/84 [==============================] - 0s 2ms/step - loss: 0.5713 - accuracy: 0.8214 - val_loss: 0.1988 - val_accuracy: 0.9302\n",
            "Epoch 126/500\n",
            "84/84 [==============================] - 0s 2ms/step - loss: 0.5128 - accuracy: 0.7917 - val_loss: 0.2437 - val_accuracy: 0.8837\n",
            "Epoch 127/500\n",
            "84/84 [==============================] - 0s 2ms/step - loss: 0.3987 - accuracy: 0.8214 - val_loss: 0.1510 - val_accuracy: 0.9767\n",
            "Epoch 128/500\n",
            "84/84 [==============================] - 0s 2ms/step - loss: 0.3494 - accuracy: 0.8750 - val_loss: 0.2101 - val_accuracy: 0.9767\n",
            "Epoch 129/500\n",
            "84/84 [==============================] - 0s 2ms/step - loss: 0.4183 - accuracy: 0.8274 - val_loss: 0.1859 - val_accuracy: 0.9767\n",
            "Epoch 130/500\n",
            "84/84 [==============================] - 0s 2ms/step - loss: 0.3240 - accuracy: 0.8810 - val_loss: 0.1685 - val_accuracy: 0.9535\n",
            "Epoch 131/500\n",
            "84/84 [==============================] - 0s 2ms/step - loss: 0.4155 - accuracy: 0.8750 - val_loss: 0.2429 - val_accuracy: 0.9070\n",
            "Epoch 132/500\n",
            "84/84 [==============================] - 0s 2ms/step - loss: 0.3467 - accuracy: 0.8869 - val_loss: 0.2942 - val_accuracy: 0.9070\n",
            "Epoch 133/500\n",
            "84/84 [==============================] - 0s 2ms/step - loss: 0.4634 - accuracy: 0.8393 - val_loss: 0.2256 - val_accuracy: 0.9070\n",
            "Epoch 134/500\n",
            "84/84 [==============================] - 0s 2ms/step - loss: 0.4599 - accuracy: 0.8631 - val_loss: 0.1247 - val_accuracy: 0.9767\n",
            "Epoch 135/500\n",
            "84/84 [==============================] - 0s 2ms/step - loss: 0.4034 - accuracy: 0.8214 - val_loss: 0.2286 - val_accuracy: 0.9302\n",
            "Epoch 136/500\n",
            "84/84 [==============================] - 0s 2ms/step - loss: 0.4847 - accuracy: 0.8155 - val_loss: 0.1868 - val_accuracy: 0.9302\n",
            "Epoch 137/500\n",
            "84/84 [==============================] - 0s 2ms/step - loss: 0.4489 - accuracy: 0.8452 - val_loss: 0.2231 - val_accuracy: 0.9070\n",
            "Epoch 138/500\n",
            "84/84 [==============================] - 0s 2ms/step - loss: 0.5077 - accuracy: 0.8512 - val_loss: 0.1793 - val_accuracy: 0.8837\n",
            "Epoch 139/500\n",
            "84/84 [==============================] - 0s 2ms/step - loss: 0.4283 - accuracy: 0.8393 - val_loss: 0.2173 - val_accuracy: 0.9070\n",
            "Epoch 140/500\n",
            "84/84 [==============================] - 0s 2ms/step - loss: 0.4145 - accuracy: 0.8631 - val_loss: 0.1893 - val_accuracy: 0.9302\n",
            "Epoch 141/500\n",
            "84/84 [==============================] - 0s 2ms/step - loss: 0.3586 - accuracy: 0.8631 - val_loss: 0.2023 - val_accuracy: 0.9070\n",
            "Epoch 142/500\n",
            "84/84 [==============================] - 0s 2ms/step - loss: 0.3057 - accuracy: 0.8929 - val_loss: 0.1150 - val_accuracy: 1.0000\n",
            "Epoch 143/500\n",
            "84/84 [==============================] - 0s 2ms/step - loss: 0.3345 - accuracy: 0.8929 - val_loss: 0.2183 - val_accuracy: 0.9302\n",
            "Epoch 144/500\n",
            "84/84 [==============================] - 0s 2ms/step - loss: 0.5191 - accuracy: 0.8690 - val_loss: 0.1424 - val_accuracy: 0.9767\n",
            "Epoch 145/500\n",
            "84/84 [==============================] - 0s 3ms/step - loss: 0.4557 - accuracy: 0.8571 - val_loss: 0.1392 - val_accuracy: 0.9535\n",
            "Epoch 146/500\n",
            "84/84 [==============================] - 0s 2ms/step - loss: 0.3897 - accuracy: 0.8810 - val_loss: 0.2147 - val_accuracy: 0.9302\n",
            "Epoch 147/500\n",
            "84/84 [==============================] - 0s 2ms/step - loss: 0.4532 - accuracy: 0.8393 - val_loss: 0.1656 - val_accuracy: 0.9302\n",
            "Epoch 148/500\n",
            "84/84 [==============================] - 0s 2ms/step - loss: 0.4310 - accuracy: 0.8690 - val_loss: 0.2491 - val_accuracy: 0.9070\n",
            "Epoch 149/500\n",
            "84/84 [==============================] - 0s 2ms/step - loss: 0.4955 - accuracy: 0.8512 - val_loss: 0.1849 - val_accuracy: 0.9535\n",
            "Epoch 150/500\n",
            "84/84 [==============================] - 0s 2ms/step - loss: 0.3839 - accuracy: 0.8869 - val_loss: 0.2135 - val_accuracy: 0.8837\n",
            "Epoch 151/500\n",
            "84/84 [==============================] - 0s 2ms/step - loss: 0.4744 - accuracy: 0.8214 - val_loss: 0.2721 - val_accuracy: 0.9302\n",
            "Epoch 152/500\n",
            "84/84 [==============================] - 0s 2ms/step - loss: 0.3955 - accuracy: 0.8512 - val_loss: 0.1528 - val_accuracy: 0.9302\n",
            "Epoch 153/500\n",
            "84/84 [==============================] - 0s 2ms/step - loss: 0.5613 - accuracy: 0.8155 - val_loss: 0.2265 - val_accuracy: 0.8837\n",
            "Epoch 154/500\n",
            "84/84 [==============================] - 0s 2ms/step - loss: 0.2888 - accuracy: 0.8750 - val_loss: 0.2494 - val_accuracy: 0.9070\n",
            "Epoch 155/500\n",
            "84/84 [==============================] - 0s 2ms/step - loss: 0.6954 - accuracy: 0.8036 - val_loss: 0.1702 - val_accuracy: 0.9535\n",
            "Epoch 156/500\n",
            "84/84 [==============================] - 0s 2ms/step - loss: 0.4052 - accuracy: 0.8571 - val_loss: 0.1226 - val_accuracy: 0.9535\n",
            "Epoch 157/500\n",
            "84/84 [==============================] - 0s 2ms/step - loss: 0.4296 - accuracy: 0.8452 - val_loss: 0.1847 - val_accuracy: 0.9302\n",
            "Epoch 158/500\n",
            "84/84 [==============================] - 0s 2ms/step - loss: 0.4989 - accuracy: 0.8690 - val_loss: 0.1298 - val_accuracy: 0.9767\n",
            "Epoch 159/500\n",
            "84/84 [==============================] - 0s 2ms/step - loss: 0.4466 - accuracy: 0.8631 - val_loss: 0.1852 - val_accuracy: 0.9535\n",
            "Epoch 160/500\n",
            "84/84 [==============================] - 0s 3ms/step - loss: 0.4299 - accuracy: 0.8690 - val_loss: 0.2422 - val_accuracy: 0.9070\n",
            "Epoch 161/500\n",
            "84/84 [==============================] - 0s 2ms/step - loss: 0.2698 - accuracy: 0.9048 - val_loss: 0.1823 - val_accuracy: 0.9070\n",
            "Epoch 162/500\n",
            "84/84 [==============================] - 0s 2ms/step - loss: 0.3897 - accuracy: 0.8869 - val_loss: 0.2213 - val_accuracy: 0.9070\n",
            "Epoch 163/500\n",
            "84/84 [==============================] - 0s 2ms/step - loss: 0.3568 - accuracy: 0.8631 - val_loss: 0.1532 - val_accuracy: 0.9535\n",
            "Epoch 164/500\n",
            "84/84 [==============================] - 0s 2ms/step - loss: 0.4094 - accuracy: 0.8690 - val_loss: 0.1002 - val_accuracy: 1.0000\n",
            "Epoch 165/500\n",
            "84/84 [==============================] - 0s 2ms/step - loss: 0.2950 - accuracy: 0.8988 - val_loss: 0.1135 - val_accuracy: 1.0000\n",
            "Epoch 166/500\n",
            "84/84 [==============================] - 0s 2ms/step - loss: 0.4003 - accuracy: 0.8631 - val_loss: 0.1804 - val_accuracy: 0.9302\n",
            "Epoch 167/500\n",
            "84/84 [==============================] - 0s 2ms/step - loss: 0.2286 - accuracy: 0.9048 - val_loss: 0.1728 - val_accuracy: 0.9070\n",
            "Epoch 168/500\n",
            "84/84 [==============================] - 0s 2ms/step - loss: 0.2757 - accuracy: 0.8988 - val_loss: 0.1598 - val_accuracy: 0.9535\n",
            "Epoch 169/500\n",
            "84/84 [==============================] - 0s 2ms/step - loss: 0.3752 - accuracy: 0.8810 - val_loss: 0.2990 - val_accuracy: 0.9070\n",
            "Epoch 170/500\n",
            "84/84 [==============================] - 0s 3ms/step - loss: 0.5529 - accuracy: 0.8274 - val_loss: 0.1935 - val_accuracy: 0.8837\n",
            "Epoch 171/500\n",
            "84/84 [==============================] - 0s 3ms/step - loss: 0.4052 - accuracy: 0.8631 - val_loss: 0.1917 - val_accuracy: 0.9535\n",
            "Epoch 172/500\n",
            "84/84 [==============================] - 0s 2ms/step - loss: 0.3325 - accuracy: 0.8750 - val_loss: 0.1901 - val_accuracy: 0.9302\n",
            "Epoch 173/500\n",
            "84/84 [==============================] - 0s 3ms/step - loss: 0.2941 - accuracy: 0.8869 - val_loss: 0.1749 - val_accuracy: 0.9302\n",
            "Epoch 174/500\n",
            "84/84 [==============================] - 0s 2ms/step - loss: 0.3454 - accuracy: 0.8452 - val_loss: 0.2613 - val_accuracy: 0.8605\n",
            "Epoch 175/500\n",
            "84/84 [==============================] - 0s 3ms/step - loss: 0.3862 - accuracy: 0.8452 - val_loss: 0.2473 - val_accuracy: 0.9070\n",
            "Epoch 176/500\n",
            "84/84 [==============================] - 0s 2ms/step - loss: 0.3952 - accuracy: 0.8810 - val_loss: 0.2668 - val_accuracy: 0.9070\n",
            "Epoch 177/500\n",
            "84/84 [==============================] - 0s 2ms/step - loss: 0.4478 - accuracy: 0.8631 - val_loss: 0.2399 - val_accuracy: 0.8372\n",
            "Epoch 178/500\n",
            "84/84 [==============================] - 0s 2ms/step - loss: 0.3350 - accuracy: 0.8929 - val_loss: 0.1814 - val_accuracy: 0.9302\n",
            "Epoch 179/500\n",
            "84/84 [==============================] - 0s 2ms/step - loss: 0.4200 - accuracy: 0.8750 - val_loss: 0.2073 - val_accuracy: 0.8837\n",
            "Epoch 180/500\n",
            "84/84 [==============================] - 0s 2ms/step - loss: 0.3941 - accuracy: 0.8512 - val_loss: 0.2372 - val_accuracy: 0.9070\n",
            "Epoch 181/500\n",
            "84/84 [==============================] - 0s 2ms/step - loss: 0.3215 - accuracy: 0.8869 - val_loss: 0.1167 - val_accuracy: 0.9767\n",
            "Epoch 182/500\n",
            "84/84 [==============================] - 0s 2ms/step - loss: 0.4075 - accuracy: 0.8631 - val_loss: 0.2407 - val_accuracy: 0.8837\n",
            "Epoch 183/500\n",
            "84/84 [==============================] - 0s 2ms/step - loss: 0.3420 - accuracy: 0.8929 - val_loss: 0.2379 - val_accuracy: 0.9070\n",
            "Epoch 184/500\n",
            "84/84 [==============================] - 0s 2ms/step - loss: 0.3368 - accuracy: 0.8810 - val_loss: 0.1982 - val_accuracy: 0.9070\n",
            "Epoch 185/500\n",
            "84/84 [==============================] - 0s 2ms/step - loss: 0.3240 - accuracy: 0.9107 - val_loss: 0.0869 - val_accuracy: 0.9767\n",
            "Epoch 186/500\n",
            "84/84 [==============================] - 0s 2ms/step - loss: 0.3656 - accuracy: 0.8929 - val_loss: 0.3535 - val_accuracy: 0.8372\n",
            "Epoch 187/500\n",
            "84/84 [==============================] - 0s 2ms/step - loss: 0.4712 - accuracy: 0.8690 - val_loss: 0.1668 - val_accuracy: 0.9302\n",
            "Epoch 188/500\n",
            "84/84 [==============================] - 0s 2ms/step - loss: 0.3488 - accuracy: 0.8810 - val_loss: 0.1446 - val_accuracy: 0.9535\n",
            "Epoch 189/500\n",
            "84/84 [==============================] - 0s 2ms/step - loss: 0.3348 - accuracy: 0.8512 - val_loss: 0.2448 - val_accuracy: 0.8837\n",
            "Epoch 190/500\n",
            "84/84 [==============================] - 0s 2ms/step - loss: 0.2785 - accuracy: 0.8750 - val_loss: 0.2317 - val_accuracy: 0.8837\n",
            "Epoch 191/500\n",
            "84/84 [==============================] - 0s 2ms/step - loss: 0.5232 - accuracy: 0.8452 - val_loss: 0.2546 - val_accuracy: 0.8837\n",
            "Epoch 192/500\n",
            "84/84 [==============================] - 0s 2ms/step - loss: 0.3967 - accuracy: 0.8571 - val_loss: 0.3042 - val_accuracy: 0.8837\n",
            "Epoch 193/500\n",
            "84/84 [==============================] - 0s 2ms/step - loss: 0.3564 - accuracy: 0.8512 - val_loss: 0.2821 - val_accuracy: 0.9302\n",
            "Epoch 194/500\n",
            "84/84 [==============================] - 0s 2ms/step - loss: 0.1785 - accuracy: 0.9405 - val_loss: 0.1505 - val_accuracy: 0.9302\n",
            "Epoch 195/500\n",
            "84/84 [==============================] - 0s 2ms/step - loss: 0.4505 - accuracy: 0.8631 - val_loss: 0.1759 - val_accuracy: 0.9302\n",
            "Epoch 196/500\n",
            "84/84 [==============================] - 0s 2ms/step - loss: 0.3794 - accuracy: 0.8750 - val_loss: 0.1574 - val_accuracy: 0.9535\n",
            "Epoch 197/500\n",
            "84/84 [==============================] - 0s 2ms/step - loss: 0.2014 - accuracy: 0.9226 - val_loss: 0.1946 - val_accuracy: 0.9070\n",
            "Epoch 198/500\n",
            "84/84 [==============================] - 0s 2ms/step - loss: 0.4350 - accuracy: 0.8750 - val_loss: 0.2734 - val_accuracy: 0.8372\n",
            "Epoch 199/500\n",
            "84/84 [==============================] - 0s 2ms/step - loss: 0.5416 - accuracy: 0.8452 - val_loss: 0.2374 - val_accuracy: 0.9070\n",
            "Epoch 200/500\n",
            "84/84 [==============================] - 0s 2ms/step - loss: 0.4463 - accuracy: 0.8274 - val_loss: 0.1977 - val_accuracy: 0.8837\n",
            "Epoch 201/500\n",
            "84/84 [==============================] - 0s 2ms/step - loss: 0.4428 - accuracy: 0.8631 - val_loss: 0.1463 - val_accuracy: 0.9535\n",
            "Epoch 202/500\n",
            "84/84 [==============================] - 0s 2ms/step - loss: 0.2098 - accuracy: 0.9464 - val_loss: 0.1627 - val_accuracy: 0.9302\n",
            "Epoch 203/500\n",
            "84/84 [==============================] - 0s 2ms/step - loss: 0.3547 - accuracy: 0.8929 - val_loss: 0.1407 - val_accuracy: 0.9767\n",
            "Epoch 204/500\n",
            "84/84 [==============================] - 0s 2ms/step - loss: 0.2950 - accuracy: 0.9048 - val_loss: 0.2269 - val_accuracy: 0.9535\n",
            "Epoch 205/500\n",
            "84/84 [==============================] - 0s 2ms/step - loss: 0.3589 - accuracy: 0.9048 - val_loss: 0.1314 - val_accuracy: 0.9535\n",
            "Epoch 206/500\n",
            "84/84 [==============================] - 0s 2ms/step - loss: 0.3974 - accuracy: 0.8869 - val_loss: 0.1158 - val_accuracy: 0.9767\n",
            "Epoch 207/500\n",
            "84/84 [==============================] - 0s 2ms/step - loss: 0.4825 - accuracy: 0.8274 - val_loss: 0.2497 - val_accuracy: 0.9070\n",
            "Epoch 208/500\n",
            "84/84 [==============================] - 0s 2ms/step - loss: 0.4827 - accuracy: 0.8571 - val_loss: 0.0970 - val_accuracy: 0.9767\n",
            "Epoch 209/500\n",
            "84/84 [==============================] - 0s 2ms/step - loss: 0.2798 - accuracy: 0.8869 - val_loss: 0.1166 - val_accuracy: 0.9535\n",
            "Epoch 210/500\n",
            "84/84 [==============================] - 0s 2ms/step - loss: 0.3284 - accuracy: 0.9048 - val_loss: 0.1235 - val_accuracy: 0.9535\n",
            "Epoch 211/500\n",
            "84/84 [==============================] - 0s 2ms/step - loss: 0.2344 - accuracy: 0.9226 - val_loss: 0.1382 - val_accuracy: 0.9767\n",
            "Epoch 212/500\n",
            "84/84 [==============================] - 0s 2ms/step - loss: 0.2775 - accuracy: 0.8988 - val_loss: 0.2810 - val_accuracy: 0.9070\n",
            "Epoch 213/500\n",
            "84/84 [==============================] - 0s 2ms/step - loss: 0.2842 - accuracy: 0.9048 - val_loss: 0.2175 - val_accuracy: 0.9070\n",
            "Epoch 214/500\n",
            "84/84 [==============================] - 0s 2ms/step - loss: 0.3354 - accuracy: 0.8929 - val_loss: 0.1487 - val_accuracy: 0.9070\n",
            "Epoch 215/500\n",
            "84/84 [==============================] - 0s 2ms/step - loss: 0.3285 - accuracy: 0.8810 - val_loss: 0.2096 - val_accuracy: 0.9070\n",
            "Epoch 216/500\n",
            "84/84 [==============================] - 0s 2ms/step - loss: 0.3816 - accuracy: 0.8869 - val_loss: 0.2023 - val_accuracy: 0.9302\n",
            "Epoch 217/500\n",
            "84/84 [==============================] - 0s 2ms/step - loss: 0.4551 - accuracy: 0.8631 - val_loss: 0.2331 - val_accuracy: 0.9302\n",
            "Epoch 218/500\n",
            "84/84 [==============================] - 0s 2ms/step - loss: 0.4810 - accuracy: 0.8274 - val_loss: 0.2185 - val_accuracy: 0.9070\n",
            "Epoch 219/500\n",
            "84/84 [==============================] - 0s 2ms/step - loss: 0.3026 - accuracy: 0.9048 - val_loss: 0.2160 - val_accuracy: 0.9302\n",
            "Epoch 220/500\n",
            "84/84 [==============================] - 0s 2ms/step - loss: 0.4885 - accuracy: 0.8274 - val_loss: 0.1098 - val_accuracy: 0.9535\n",
            "Epoch 221/500\n",
            "84/84 [==============================] - 0s 2ms/step - loss: 0.3763 - accuracy: 0.8571 - val_loss: 0.1623 - val_accuracy: 0.9302\n",
            "Epoch 222/500\n",
            "84/84 [==============================] - 0s 3ms/step - loss: 0.2981 - accuracy: 0.9107 - val_loss: 0.1414 - val_accuracy: 0.9767\n",
            "Epoch 223/500\n",
            "84/84 [==============================] - 0s 2ms/step - loss: 0.3464 - accuracy: 0.8810 - val_loss: 0.1817 - val_accuracy: 0.9535\n",
            "Epoch 224/500\n",
            "84/84 [==============================] - 0s 2ms/step - loss: 0.2883 - accuracy: 0.8929 - val_loss: 0.1394 - val_accuracy: 0.9535\n",
            "Epoch 225/500\n",
            "84/84 [==============================] - 0s 2ms/step - loss: 0.3336 - accuracy: 0.8988 - val_loss: 0.1373 - val_accuracy: 0.9535\n",
            "Epoch 226/500\n",
            "84/84 [==============================] - 0s 2ms/step - loss: 0.3995 - accuracy: 0.8690 - val_loss: 0.2967 - val_accuracy: 0.9070\n",
            "Epoch 227/500\n",
            "84/84 [==============================] - 0s 3ms/step - loss: 0.3716 - accuracy: 0.9167 - val_loss: 0.1346 - val_accuracy: 0.9767\n",
            "Epoch 228/500\n",
            "84/84 [==============================] - 0s 2ms/step - loss: 0.3304 - accuracy: 0.8988 - val_loss: 0.1254 - val_accuracy: 0.9535\n",
            "Epoch 229/500\n",
            "84/84 [==============================] - 0s 2ms/step - loss: 0.3827 - accuracy: 0.8869 - val_loss: 0.0908 - val_accuracy: 0.9767\n",
            "Epoch 230/500\n",
            "84/84 [==============================] - 0s 2ms/step - loss: 0.3408 - accuracy: 0.9048 - val_loss: 0.1129 - val_accuracy: 1.0000\n",
            "Epoch 231/500\n",
            "84/84 [==============================] - 0s 2ms/step - loss: 0.3216 - accuracy: 0.8750 - val_loss: 0.1478 - val_accuracy: 0.9535\n",
            "Epoch 232/500\n",
            "84/84 [==============================] - 0s 3ms/step - loss: 0.2011 - accuracy: 0.9345 - val_loss: 0.1497 - val_accuracy: 0.9535\n",
            "Epoch 233/500\n",
            "84/84 [==============================] - 0s 2ms/step - loss: 0.2858 - accuracy: 0.8869 - val_loss: 0.1783 - val_accuracy: 0.9070\n",
            "Epoch 234/500\n",
            "84/84 [==============================] - 0s 2ms/step - loss: 0.2868 - accuracy: 0.8988 - val_loss: 0.1861 - val_accuracy: 0.9070\n",
            "Epoch 235/500\n",
            "84/84 [==============================] - 0s 2ms/step - loss: 0.1913 - accuracy: 0.9286 - val_loss: 0.2115 - val_accuracy: 0.9070\n",
            "Epoch 236/500\n",
            "84/84 [==============================] - 0s 2ms/step - loss: 0.3395 - accuracy: 0.9107 - val_loss: 0.1477 - val_accuracy: 0.9535\n",
            "Epoch 237/500\n",
            "84/84 [==============================] - 0s 2ms/step - loss: 0.3715 - accuracy: 0.8988 - val_loss: 0.3586 - val_accuracy: 0.8372\n",
            "Epoch 238/500\n",
            "84/84 [==============================] - 0s 2ms/step - loss: 0.4351 - accuracy: 0.8810 - val_loss: 0.1508 - val_accuracy: 0.9767\n",
            "Epoch 239/500\n",
            "84/84 [==============================] - 0s 2ms/step - loss: 0.2087 - accuracy: 0.9286 - val_loss: 0.1613 - val_accuracy: 0.9535\n",
            "Epoch 240/500\n",
            "84/84 [==============================] - 0s 2ms/step - loss: 0.2360 - accuracy: 0.9167 - val_loss: 0.0885 - val_accuracy: 0.9767\n",
            "Epoch 241/500\n",
            "84/84 [==============================] - 0s 2ms/step - loss: 0.3100 - accuracy: 0.8988 - val_loss: 0.1267 - val_accuracy: 0.9767\n",
            "Epoch 242/500\n",
            "84/84 [==============================] - 0s 2ms/step - loss: 0.2713 - accuracy: 0.8988 - val_loss: 0.2078 - val_accuracy: 0.9070\n",
            "Epoch 243/500\n",
            "84/84 [==============================] - 0s 2ms/step - loss: 0.3955 - accuracy: 0.8810 - val_loss: 0.1210 - val_accuracy: 0.9070\n",
            "Epoch 244/500\n",
            "84/84 [==============================] - 0s 2ms/step - loss: 0.1999 - accuracy: 0.9048 - val_loss: 0.0639 - val_accuracy: 1.0000\n",
            "Epoch 245/500\n",
            "84/84 [==============================] - 0s 2ms/step - loss: 0.1909 - accuracy: 0.9167 - val_loss: 0.0523 - val_accuracy: 1.0000\n",
            "Epoch 246/500\n",
            "84/84 [==============================] - 0s 2ms/step - loss: 0.2785 - accuracy: 0.9167 - val_loss: 0.1010 - val_accuracy: 0.9767\n",
            "Epoch 247/500\n",
            "84/84 [==============================] - 0s 2ms/step - loss: 0.1820 - accuracy: 0.9464 - val_loss: 0.0667 - val_accuracy: 1.0000\n",
            "Epoch 248/500\n",
            "84/84 [==============================] - 0s 2ms/step - loss: 0.3560 - accuracy: 0.8988 - val_loss: 0.1669 - val_accuracy: 0.9070\n",
            "Epoch 249/500\n",
            "84/84 [==============================] - 0s 2ms/step - loss: 0.3562 - accuracy: 0.8571 - val_loss: 0.3385 - val_accuracy: 0.9302\n",
            "Epoch 250/500\n",
            "84/84 [==============================] - 0s 3ms/step - loss: 0.3817 - accuracy: 0.8631 - val_loss: 0.1472 - val_accuracy: 0.9302\n",
            "Epoch 251/500\n",
            "84/84 [==============================] - 0s 3ms/step - loss: 0.3239 - accuracy: 0.9167 - val_loss: 0.1348 - val_accuracy: 0.9767\n",
            "Epoch 252/500\n",
            "84/84 [==============================] - 0s 2ms/step - loss: 0.3401 - accuracy: 0.9048 - val_loss: 0.1652 - val_accuracy: 0.9302\n",
            "Epoch 253/500\n",
            "84/84 [==============================] - 0s 2ms/step - loss: 0.3229 - accuracy: 0.8750 - val_loss: 0.1167 - val_accuracy: 0.9535\n",
            "Epoch 254/500\n",
            "84/84 [==============================] - 0s 2ms/step - loss: 0.2867 - accuracy: 0.9107 - val_loss: 0.1153 - val_accuracy: 0.9767\n",
            "Epoch 255/500\n",
            "84/84 [==============================] - 0s 2ms/step - loss: 0.3007 - accuracy: 0.8988 - val_loss: 0.1503 - val_accuracy: 0.9302\n",
            "Epoch 256/500\n",
            "84/84 [==============================] - 0s 2ms/step - loss: 0.2559 - accuracy: 0.8929 - val_loss: 0.1364 - val_accuracy: 0.9535\n",
            "Epoch 257/500\n",
            "84/84 [==============================] - 0s 2ms/step - loss: 0.2964 - accuracy: 0.8988 - val_loss: 0.1438 - val_accuracy: 0.9070\n",
            "Epoch 258/500\n",
            "84/84 [==============================] - 0s 2ms/step - loss: 0.3298 - accuracy: 0.8929 - val_loss: 0.0732 - val_accuracy: 0.9767\n",
            "Epoch 259/500\n",
            "84/84 [==============================] - 0s 2ms/step - loss: 0.2093 - accuracy: 0.9226 - val_loss: 0.1445 - val_accuracy: 0.9535\n",
            "Epoch 260/500\n",
            "84/84 [==============================] - 0s 3ms/step - loss: 0.3014 - accuracy: 0.8988 - val_loss: 0.2706 - val_accuracy: 0.9070\n",
            "Epoch 261/500\n",
            "84/84 [==============================] - 0s 2ms/step - loss: 0.3394 - accuracy: 0.8869 - val_loss: 0.2295 - val_accuracy: 0.9070\n",
            "Epoch 262/500\n",
            "84/84 [==============================] - 0s 2ms/step - loss: 0.4321 - accuracy: 0.8750 - val_loss: 0.2010 - val_accuracy: 0.9302\n",
            "Epoch 263/500\n",
            "84/84 [==============================] - 0s 2ms/step - loss: 0.2829 - accuracy: 0.9048 - val_loss: 0.0939 - val_accuracy: 0.9535\n",
            "Epoch 264/500\n",
            "84/84 [==============================] - 0s 2ms/step - loss: 0.2956 - accuracy: 0.8929 - val_loss: 0.1269 - val_accuracy: 0.9070\n",
            "Epoch 265/500\n",
            "84/84 [==============================] - 0s 2ms/step - loss: 0.2589 - accuracy: 0.8869 - val_loss: 0.0939 - val_accuracy: 0.9767\n",
            "Epoch 266/500\n",
            "84/84 [==============================] - 0s 2ms/step - loss: 0.2623 - accuracy: 0.9048 - val_loss: 0.2589 - val_accuracy: 0.9302\n",
            "Epoch 267/500\n",
            "84/84 [==============================] - 0s 2ms/step - loss: 0.2677 - accuracy: 0.8869 - val_loss: 0.2290 - val_accuracy: 0.9535\n",
            "Epoch 268/500\n",
            "84/84 [==============================] - 0s 2ms/step - loss: 0.2899 - accuracy: 0.9226 - val_loss: 0.1566 - val_accuracy: 0.9535\n",
            "Epoch 269/500\n",
            "84/84 [==============================] - 0s 2ms/step - loss: 0.3445 - accuracy: 0.9048 - val_loss: 0.1887 - val_accuracy: 0.9070\n",
            "Epoch 270/500\n",
            "84/84 [==============================] - 0s 2ms/step - loss: 0.2704 - accuracy: 0.9048 - val_loss: 0.0752 - val_accuracy: 1.0000\n",
            "Epoch 271/500\n",
            "84/84 [==============================] - 0s 3ms/step - loss: 0.3270 - accuracy: 0.9167 - val_loss: 0.1804 - val_accuracy: 0.8837\n",
            "Epoch 272/500\n",
            "84/84 [==============================] - 0s 2ms/step - loss: 0.3364 - accuracy: 0.8810 - val_loss: 0.1063 - val_accuracy: 0.9535\n",
            "Epoch 273/500\n",
            "84/84 [==============================] - 0s 2ms/step - loss: 0.3672 - accuracy: 0.8512 - val_loss: 0.0838 - val_accuracy: 0.9767\n",
            "Epoch 274/500\n",
            "84/84 [==============================] - 0s 3ms/step - loss: 0.4427 - accuracy: 0.8512 - val_loss: 0.2246 - val_accuracy: 0.9302\n",
            "Epoch 275/500\n",
            "84/84 [==============================] - 0s 2ms/step - loss: 0.2109 - accuracy: 0.9226 - val_loss: 0.1809 - val_accuracy: 0.9070\n",
            "Epoch 276/500\n",
            "84/84 [==============================] - 0s 2ms/step - loss: 0.2591 - accuracy: 0.8810 - val_loss: 0.2384 - val_accuracy: 0.9070\n",
            "Epoch 277/500\n",
            "84/84 [==============================] - 0s 2ms/step - loss: 0.2338 - accuracy: 0.9107 - val_loss: 0.1092 - val_accuracy: 0.9535\n",
            "Epoch 278/500\n",
            "84/84 [==============================] - 0s 2ms/step - loss: 0.2661 - accuracy: 0.9167 - val_loss: 0.1671 - val_accuracy: 0.9535\n",
            "Epoch 279/500\n",
            "84/84 [==============================] - 0s 3ms/step - loss: 0.4117 - accuracy: 0.8512 - val_loss: 0.1239 - val_accuracy: 0.9767\n",
            "Epoch 280/500\n",
            "84/84 [==============================] - 0s 2ms/step - loss: 0.3032 - accuracy: 0.9107 - val_loss: 0.2577 - val_accuracy: 0.9070\n",
            "Epoch 281/500\n",
            "84/84 [==============================] - 0s 2ms/step - loss: 0.2983 - accuracy: 0.8869 - val_loss: 0.4833 - val_accuracy: 0.8837\n",
            "Epoch 282/500\n",
            "84/84 [==============================] - 0s 2ms/step - loss: 0.3514 - accuracy: 0.8929 - val_loss: 0.2015 - val_accuracy: 0.9302\n",
            "Epoch 283/500\n",
            "84/84 [==============================] - 0s 2ms/step - loss: 0.2248 - accuracy: 0.9107 - val_loss: 0.3479 - val_accuracy: 0.8837\n",
            "Epoch 284/500\n",
            "84/84 [==============================] - 0s 2ms/step - loss: 0.4544 - accuracy: 0.8929 - val_loss: 0.1314 - val_accuracy: 0.9535\n",
            "Epoch 285/500\n",
            "84/84 [==============================] - 0s 2ms/step - loss: 0.3161 - accuracy: 0.8810 - val_loss: 0.2066 - val_accuracy: 0.9767\n",
            "Epoch 286/500\n",
            "84/84 [==============================] - 0s 2ms/step - loss: 0.2447 - accuracy: 0.9107 - val_loss: 0.3128 - val_accuracy: 0.8837\n",
            "Epoch 287/500\n",
            "84/84 [==============================] - 0s 2ms/step - loss: 0.4630 - accuracy: 0.8631 - val_loss: 0.2100 - val_accuracy: 0.9302\n",
            "Epoch 288/500\n",
            "84/84 [==============================] - 0s 2ms/step - loss: 0.3582 - accuracy: 0.8869 - val_loss: 0.2230 - val_accuracy: 0.8605\n",
            "Epoch 289/500\n",
            "84/84 [==============================] - 0s 3ms/step - loss: 0.3949 - accuracy: 0.8690 - val_loss: 0.0913 - val_accuracy: 0.9767\n",
            "Epoch 290/500\n",
            "84/84 [==============================] - 0s 2ms/step - loss: 0.3570 - accuracy: 0.8929 - val_loss: 0.2187 - val_accuracy: 0.9070\n",
            "Epoch 291/500\n",
            "84/84 [==============================] - 0s 2ms/step - loss: 0.3507 - accuracy: 0.9048 - val_loss: 0.2517 - val_accuracy: 0.9767\n",
            "Epoch 292/500\n",
            "84/84 [==============================] - 0s 2ms/step - loss: 0.2424 - accuracy: 0.9048 - val_loss: 0.1805 - val_accuracy: 0.9767\n",
            "Epoch 293/500\n",
            "84/84 [==============================] - 0s 2ms/step - loss: 0.3430 - accuracy: 0.8929 - val_loss: 0.1858 - val_accuracy: 0.9070\n",
            "Epoch 294/500\n",
            "84/84 [==============================] - 0s 2ms/step - loss: 0.4224 - accuracy: 0.8690 - val_loss: 0.3920 - val_accuracy: 0.9767\n",
            "Epoch 295/500\n",
            "84/84 [==============================] - 0s 2ms/step - loss: 0.4084 - accuracy: 0.8512 - val_loss: 0.2723 - val_accuracy: 0.9535\n",
            "Epoch 296/500\n",
            "84/84 [==============================] - 0s 2ms/step - loss: 0.1925 - accuracy: 0.9167 - val_loss: 0.2060 - val_accuracy: 0.9767\n",
            "Epoch 297/500\n",
            "84/84 [==============================] - 0s 3ms/step - loss: 0.2243 - accuracy: 0.9286 - val_loss: 0.2561 - val_accuracy: 0.9535\n",
            "Epoch 298/500\n",
            "84/84 [==============================] - 0s 2ms/step - loss: 0.4018 - accuracy: 0.8631 - val_loss: 0.2062 - val_accuracy: 0.9535\n",
            "Epoch 299/500\n",
            "84/84 [==============================] - 0s 2ms/step - loss: 0.2322 - accuracy: 0.9107 - val_loss: 0.1801 - val_accuracy: 0.9302\n",
            "Epoch 300/500\n",
            "84/84 [==============================] - 0s 2ms/step - loss: 0.2942 - accuracy: 0.9107 - val_loss: 0.1637 - val_accuracy: 0.9302\n",
            "Epoch 301/500\n",
            "84/84 [==============================] - 0s 2ms/step - loss: 0.3573 - accuracy: 0.8929 - val_loss: 0.0940 - val_accuracy: 0.9767\n",
            "Epoch 302/500\n",
            "84/84 [==============================] - 0s 2ms/step - loss: 0.3547 - accuracy: 0.8571 - val_loss: 0.1899 - val_accuracy: 0.9302\n",
            "Epoch 303/500\n",
            "84/84 [==============================] - 0s 2ms/step - loss: 0.3265 - accuracy: 0.8929 - val_loss: 0.0864 - val_accuracy: 0.9767\n",
            "Epoch 304/500\n",
            "84/84 [==============================] - 0s 3ms/step - loss: 0.2742 - accuracy: 0.8810 - val_loss: 0.0656 - val_accuracy: 0.9535\n",
            "Epoch 305/500\n",
            "84/84 [==============================] - 0s 2ms/step - loss: 0.3957 - accuracy: 0.9048 - val_loss: 0.2077 - val_accuracy: 0.8837\n",
            "Epoch 306/500\n",
            "84/84 [==============================] - 0s 3ms/step - loss: 0.3625 - accuracy: 0.8571 - val_loss: 0.2694 - val_accuracy: 0.8837\n",
            "Epoch 307/500\n",
            "84/84 [==============================] - 0s 2ms/step - loss: 0.3252 - accuracy: 0.8810 - val_loss: 0.1236 - val_accuracy: 0.9767\n",
            "Epoch 308/500\n",
            "84/84 [==============================] - 0s 2ms/step - loss: 0.4380 - accuracy: 0.8690 - val_loss: 0.1409 - val_accuracy: 0.9302\n",
            "Epoch 309/500\n",
            "84/84 [==============================] - 0s 2ms/step - loss: 0.3468 - accuracy: 0.8750 - val_loss: 0.2502 - val_accuracy: 0.9070\n",
            "Epoch 310/500\n",
            "84/84 [==============================] - 0s 2ms/step - loss: 0.4086 - accuracy: 0.8988 - val_loss: 0.0392 - val_accuracy: 1.0000\n",
            "Epoch 311/500\n",
            "84/84 [==============================] - 0s 2ms/step - loss: 0.4549 - accuracy: 0.8810 - val_loss: 0.1168 - val_accuracy: 0.9535\n",
            "Epoch 312/500\n",
            "84/84 [==============================] - 0s 2ms/step - loss: 0.3356 - accuracy: 0.8690 - val_loss: 0.3215 - val_accuracy: 0.9535\n",
            "Epoch 313/500\n",
            "84/84 [==============================] - 0s 3ms/step - loss: 0.2832 - accuracy: 0.9048 - val_loss: 0.1401 - val_accuracy: 0.9535\n",
            "Epoch 314/500\n",
            "84/84 [==============================] - 0s 2ms/step - loss: 0.4022 - accuracy: 0.8333 - val_loss: 0.3695 - val_accuracy: 0.9070\n",
            "Epoch 315/500\n",
            "84/84 [==============================] - 0s 2ms/step - loss: 0.3898 - accuracy: 0.8690 - val_loss: 0.4095 - val_accuracy: 0.9302\n",
            "Epoch 316/500\n",
            "84/84 [==============================] - 0s 2ms/step - loss: 0.4272 - accuracy: 0.8631 - val_loss: 0.2494 - val_accuracy: 0.9535\n",
            "Epoch 317/500\n",
            "84/84 [==============================] - 0s 2ms/step - loss: 0.4008 - accuracy: 0.8869 - val_loss: 0.1714 - val_accuracy: 0.9302\n",
            "Epoch 318/500\n",
            "84/84 [==============================] - 0s 3ms/step - loss: 0.2472 - accuracy: 0.9286 - val_loss: 0.1143 - val_accuracy: 0.9535\n",
            "Epoch 319/500\n",
            "84/84 [==============================] - 0s 2ms/step - loss: 0.4626 - accuracy: 0.8810 - val_loss: 0.1771 - val_accuracy: 0.9302\n",
            "Epoch 320/500\n",
            "84/84 [==============================] - 0s 2ms/step - loss: 0.3483 - accuracy: 0.8690 - val_loss: 0.3078 - val_accuracy: 0.8372\n",
            "Epoch 321/500\n",
            "84/84 [==============================] - 0s 2ms/step - loss: 0.3830 - accuracy: 0.8750 - val_loss: 0.1558 - val_accuracy: 0.9302\n",
            "Epoch 322/500\n",
            "84/84 [==============================] - 0s 2ms/step - loss: 0.3108 - accuracy: 0.8750 - val_loss: 0.1540 - val_accuracy: 0.9535\n",
            "Epoch 323/500\n",
            "84/84 [==============================] - 0s 2ms/step - loss: 0.3221 - accuracy: 0.8750 - val_loss: 0.1497 - val_accuracy: 0.9535\n",
            "Epoch 324/500\n",
            "84/84 [==============================] - 0s 2ms/step - loss: 0.7396 - accuracy: 0.8333 - val_loss: 0.0852 - val_accuracy: 0.9535\n",
            "Epoch 325/500\n",
            "84/84 [==============================] - 0s 2ms/step - loss: 0.4249 - accuracy: 0.8571 - val_loss: 0.1259 - val_accuracy: 0.9767\n",
            "Epoch 326/500\n",
            "84/84 [==============================] - 0s 2ms/step - loss: 0.3051 - accuracy: 0.9048 - val_loss: 0.1080 - val_accuracy: 0.9767\n",
            "Epoch 327/500\n",
            "84/84 [==============================] - 0s 2ms/step - loss: 0.2772 - accuracy: 0.9167 - val_loss: 0.0958 - val_accuracy: 1.0000\n",
            "Epoch 328/500\n",
            "84/84 [==============================] - 0s 3ms/step - loss: 0.4580 - accuracy: 0.8750 - val_loss: 0.1382 - val_accuracy: 0.9767\n",
            "Epoch 329/500\n",
            "84/84 [==============================] - 0s 3ms/step - loss: 0.3809 - accuracy: 0.8869 - val_loss: 0.1814 - val_accuracy: 0.9302\n",
            "Epoch 330/500\n",
            "84/84 [==============================] - 0s 2ms/step - loss: 0.2316 - accuracy: 0.8929 - val_loss: 0.1528 - val_accuracy: 0.9535\n",
            "Epoch 331/500\n",
            "84/84 [==============================] - 0s 3ms/step - loss: 0.2634 - accuracy: 0.9107 - val_loss: 0.1277 - val_accuracy: 0.9767\n",
            "Epoch 332/500\n",
            "84/84 [==============================] - 0s 2ms/step - loss: 0.2495 - accuracy: 0.9048 - val_loss: 0.1464 - val_accuracy: 0.9767\n",
            "Epoch 333/500\n",
            "84/84 [==============================] - 0s 2ms/step - loss: 0.2219 - accuracy: 0.9286 - val_loss: 0.1073 - val_accuracy: 0.9302\n",
            "Epoch 334/500\n",
            "84/84 [==============================] - 0s 2ms/step - loss: 0.4160 - accuracy: 0.9405 - val_loss: 0.1109 - val_accuracy: 0.9302\n",
            "Epoch 335/500\n",
            "84/84 [==============================] - 0s 2ms/step - loss: 0.1631 - accuracy: 0.9167 - val_loss: 0.0831 - val_accuracy: 0.9535\n",
            "Epoch 336/500\n",
            "84/84 [==============================] - 0s 2ms/step - loss: 0.3432 - accuracy: 0.9167 - val_loss: 0.1125 - val_accuracy: 0.9302\n",
            "Epoch 337/500\n",
            "84/84 [==============================] - 0s 3ms/step - loss: 0.1672 - accuracy: 0.9286 - val_loss: 0.0992 - val_accuracy: 0.9767\n",
            "Epoch 338/500\n",
            "84/84 [==============================] - 0s 3ms/step - loss: 0.1722 - accuracy: 0.9226 - val_loss: 0.0921 - val_accuracy: 0.9767\n",
            "Epoch 339/500\n",
            "84/84 [==============================] - 0s 2ms/step - loss: 0.2892 - accuracy: 0.9226 - val_loss: 0.0641 - val_accuracy: 0.9767\n",
            "Epoch 340/500\n",
            "84/84 [==============================] - 0s 2ms/step - loss: 0.3234 - accuracy: 0.8810 - val_loss: 0.1352 - val_accuracy: 0.9302\n",
            "Epoch 341/500\n",
            "84/84 [==============================] - 0s 2ms/step - loss: 0.1483 - accuracy: 0.9583 - val_loss: 0.0926 - val_accuracy: 0.9767\n",
            "Epoch 342/500\n",
            "84/84 [==============================] - 0s 3ms/step - loss: 0.2596 - accuracy: 0.9226 - val_loss: 0.1425 - val_accuracy: 0.9767\n",
            "Epoch 343/500\n",
            "84/84 [==============================] - 0s 2ms/step - loss: 0.1818 - accuracy: 0.9345 - val_loss: 0.1019 - val_accuracy: 0.9767\n",
            "Epoch 344/500\n",
            "84/84 [==============================] - 0s 3ms/step - loss: 0.1927 - accuracy: 0.9524 - val_loss: 0.1582 - val_accuracy: 0.8605\n",
            "Epoch 345/500\n",
            "84/84 [==============================] - 0s 3ms/step - loss: 0.3141 - accuracy: 0.8869 - val_loss: 0.2101 - val_accuracy: 0.9302\n",
            "Epoch 346/500\n",
            "84/84 [==============================] - 0s 3ms/step - loss: 0.2895 - accuracy: 0.8929 - val_loss: 0.1871 - val_accuracy: 0.9302\n",
            "Epoch 347/500\n",
            "84/84 [==============================] - 0s 2ms/step - loss: 0.3262 - accuracy: 0.8810 - val_loss: 0.1543 - val_accuracy: 0.9535\n",
            "Epoch 348/500\n",
            "84/84 [==============================] - 0s 2ms/step - loss: 0.2264 - accuracy: 0.9167 - val_loss: 0.0958 - val_accuracy: 0.9767\n",
            "Epoch 349/500\n",
            "84/84 [==============================] - 0s 2ms/step - loss: 0.3899 - accuracy: 0.8869 - val_loss: 0.0809 - val_accuracy: 0.9767\n",
            "Epoch 350/500\n",
            "84/84 [==============================] - 0s 2ms/step - loss: 0.6466 - accuracy: 0.8571 - val_loss: 0.3366 - val_accuracy: 0.8837\n",
            "Epoch 351/500\n",
            "84/84 [==============================] - 0s 2ms/step - loss: 0.3873 - accuracy: 0.8929 - val_loss: 0.1719 - val_accuracy: 0.9070\n",
            "Epoch 352/500\n",
            "84/84 [==============================] - 0s 2ms/step - loss: 0.2581 - accuracy: 0.9107 - val_loss: 0.1961 - val_accuracy: 0.9070\n",
            "Epoch 353/500\n",
            "84/84 [==============================] - 0s 2ms/step - loss: 0.2533 - accuracy: 0.8929 - val_loss: 0.2237 - val_accuracy: 0.9302\n",
            "Epoch 354/500\n",
            "84/84 [==============================] - 0s 3ms/step - loss: 0.2389 - accuracy: 0.8929 - val_loss: 0.1639 - val_accuracy: 0.9302\n",
            "Epoch 355/500\n",
            "84/84 [==============================] - 0s 2ms/step - loss: 0.3175 - accuracy: 0.8869 - val_loss: 0.1834 - val_accuracy: 0.9535\n",
            "Epoch 356/500\n",
            "84/84 [==============================] - 0s 3ms/step - loss: 0.3055 - accuracy: 0.8929 - val_loss: 0.1617 - val_accuracy: 0.9767\n",
            "Epoch 357/500\n",
            "84/84 [==============================] - 0s 2ms/step - loss: 0.2697 - accuracy: 0.9167 - val_loss: 0.1200 - val_accuracy: 0.9535\n",
            "Epoch 358/500\n",
            "84/84 [==============================] - 0s 2ms/step - loss: 0.2442 - accuracy: 0.9345 - val_loss: 0.1292 - val_accuracy: 0.9535\n",
            "Epoch 359/500\n",
            "84/84 [==============================] - 0s 2ms/step - loss: 0.2786 - accuracy: 0.9048 - val_loss: 0.1347 - val_accuracy: 0.9535\n",
            "Epoch 360/500\n",
            "84/84 [==============================] - 0s 2ms/step - loss: 0.3574 - accuracy: 0.9167 - val_loss: 0.1088 - val_accuracy: 0.9767\n",
            "Epoch 361/500\n",
            "84/84 [==============================] - 0s 2ms/step - loss: 0.2286 - accuracy: 0.9405 - val_loss: 0.0618 - val_accuracy: 0.9767\n",
            "Epoch 362/500\n",
            "84/84 [==============================] - 0s 3ms/step - loss: 0.2517 - accuracy: 0.9345 - val_loss: 0.1288 - val_accuracy: 0.9535\n",
            "Epoch 363/500\n",
            "84/84 [==============================] - 0s 2ms/step - loss: 0.3759 - accuracy: 0.8810 - val_loss: 0.1254 - val_accuracy: 0.9535\n",
            "Epoch 364/500\n",
            "84/84 [==============================] - 0s 3ms/step - loss: 0.4557 - accuracy: 0.8690 - val_loss: 0.2333 - val_accuracy: 0.9535\n",
            "Epoch 365/500\n",
            "84/84 [==============================] - 0s 2ms/step - loss: 0.3558 - accuracy: 0.8929 - val_loss: 0.1386 - val_accuracy: 0.9535\n",
            "Epoch 366/500\n",
            "84/84 [==============================] - 0s 2ms/step - loss: 0.2420 - accuracy: 0.9345 - val_loss: 0.1303 - val_accuracy: 0.9767\n",
            "Epoch 367/500\n",
            "84/84 [==============================] - 0s 2ms/step - loss: 0.1459 - accuracy: 0.9226 - val_loss: 0.0800 - val_accuracy: 0.9535\n",
            "Epoch 368/500\n",
            "84/84 [==============================] - 0s 2ms/step - loss: 0.3232 - accuracy: 0.9167 - val_loss: 0.1570 - val_accuracy: 0.9535\n",
            "Epoch 369/500\n",
            "84/84 [==============================] - 0s 2ms/step - loss: 0.2977 - accuracy: 0.9048 - val_loss: 0.1352 - val_accuracy: 0.9535\n",
            "Epoch 370/500\n",
            "84/84 [==============================] - 0s 3ms/step - loss: 0.3690 - accuracy: 0.8988 - val_loss: 0.1318 - val_accuracy: 0.9767\n",
            "Epoch 371/500\n",
            "84/84 [==============================] - 0s 2ms/step - loss: 0.3187 - accuracy: 0.8750 - val_loss: 0.1688 - val_accuracy: 0.9535\n",
            "Epoch 372/500\n",
            "84/84 [==============================] - 0s 2ms/step - loss: 0.4452 - accuracy: 0.8750 - val_loss: 0.1084 - val_accuracy: 0.9767\n",
            "Epoch 373/500\n",
            "84/84 [==============================] - 0s 2ms/step - loss: 0.3614 - accuracy: 0.8869 - val_loss: 0.0661 - val_accuracy: 1.0000\n",
            "Epoch 374/500\n",
            "84/84 [==============================] - 0s 2ms/step - loss: 0.4240 - accuracy: 0.8869 - val_loss: 0.0991 - val_accuracy: 0.9767\n",
            "Epoch 375/500\n",
            "84/84 [==============================] - 0s 2ms/step - loss: 0.2934 - accuracy: 0.9226 - val_loss: 0.1144 - val_accuracy: 0.9535\n",
            "Epoch 376/500\n",
            "84/84 [==============================] - 0s 2ms/step - loss: 0.2986 - accuracy: 0.9048 - val_loss: 0.1216 - val_accuracy: 0.9535\n",
            "Epoch 377/500\n",
            "84/84 [==============================] - 0s 3ms/step - loss: 0.1848 - accuracy: 0.9345 - val_loss: 0.0955 - val_accuracy: 0.9767\n",
            "Epoch 378/500\n",
            "84/84 [==============================] - 0s 3ms/step - loss: 0.2172 - accuracy: 0.9107 - val_loss: 0.0994 - val_accuracy: 0.9535\n",
            "Epoch 379/500\n",
            "84/84 [==============================] - 0s 3ms/step - loss: 0.1746 - accuracy: 0.9524 - val_loss: 0.0916 - val_accuracy: 0.9767\n",
            "Epoch 380/500\n",
            "84/84 [==============================] - 0s 2ms/step - loss: 0.3681 - accuracy: 0.8869 - val_loss: 0.1109 - val_accuracy: 0.9767\n",
            "Epoch 381/500\n",
            "84/84 [==============================] - 0s 2ms/step - loss: 0.2451 - accuracy: 0.9107 - val_loss: 0.1254 - val_accuracy: 0.9535\n",
            "Epoch 382/500\n",
            "84/84 [==============================] - 0s 2ms/step - loss: 0.1733 - accuracy: 0.9524 - val_loss: 0.1042 - val_accuracy: 0.9767\n",
            "Epoch 383/500\n",
            "84/84 [==============================] - 0s 2ms/step - loss: 0.2028 - accuracy: 0.9345 - val_loss: 0.1446 - val_accuracy: 0.9535\n",
            "Epoch 384/500\n",
            "84/84 [==============================] - 0s 3ms/step - loss: 0.3294 - accuracy: 0.8631 - val_loss: 0.2109 - val_accuracy: 0.9070\n",
            "Epoch 385/500\n",
            "84/84 [==============================] - 0s 2ms/step - loss: 0.3247 - accuracy: 0.9167 - val_loss: 0.1518 - val_accuracy: 0.9535\n",
            "Epoch 386/500\n",
            "84/84 [==============================] - 0s 3ms/step - loss: 0.2874 - accuracy: 0.9167 - val_loss: 0.2215 - val_accuracy: 0.9767\n",
            "Epoch 387/500\n",
            "84/84 [==============================] - 0s 2ms/step - loss: 0.2855 - accuracy: 0.9107 - val_loss: 0.2331 - val_accuracy: 0.9535\n",
            "Epoch 388/500\n",
            "84/84 [==============================] - 0s 2ms/step - loss: 0.2030 - accuracy: 0.9524 - val_loss: 0.2266 - val_accuracy: 0.9767\n",
            "Epoch 389/500\n",
            "84/84 [==============================] - 0s 3ms/step - loss: 0.2076 - accuracy: 0.9226 - val_loss: 0.2081 - val_accuracy: 0.9070\n",
            "Epoch 390/500\n",
            "84/84 [==============================] - 0s 2ms/step - loss: 0.4412 - accuracy: 0.8810 - val_loss: 0.2045 - val_accuracy: 0.9535\n",
            "Epoch 391/500\n",
            "84/84 [==============================] - 0s 2ms/step - loss: 0.2147 - accuracy: 0.9345 - val_loss: 0.2086 - val_accuracy: 0.9535\n",
            "Epoch 392/500\n",
            "84/84 [==============================] - 0s 2ms/step - loss: 0.1918 - accuracy: 0.9286 - val_loss: 0.2259 - val_accuracy: 0.9767\n",
            "Epoch 393/500\n",
            "84/84 [==============================] - 0s 2ms/step - loss: 0.3662 - accuracy: 0.8869 - val_loss: 0.1454 - val_accuracy: 0.9767\n",
            "Epoch 394/500\n",
            "84/84 [==============================] - 0s 3ms/step - loss: 0.2611 - accuracy: 0.9107 - val_loss: 0.1424 - val_accuracy: 0.9535\n",
            "Epoch 395/500\n",
            "84/84 [==============================] - 0s 2ms/step - loss: 0.2870 - accuracy: 0.9048 - val_loss: 0.3054 - val_accuracy: 0.9302\n",
            "Epoch 396/500\n",
            "84/84 [==============================] - 0s 2ms/step - loss: 0.2181 - accuracy: 0.9048 - val_loss: 0.2736 - val_accuracy: 0.9302\n",
            "Epoch 397/500\n",
            "84/84 [==============================] - 0s 2ms/step - loss: 0.3532 - accuracy: 0.8869 - val_loss: 0.3176 - val_accuracy: 0.9302\n",
            "Epoch 398/500\n",
            "84/84 [==============================] - 0s 2ms/step - loss: 0.2325 - accuracy: 0.9405 - val_loss: 0.3000 - val_accuracy: 0.9535\n",
            "Epoch 399/500\n",
            "84/84 [==============================] - 0s 3ms/step - loss: 0.1794 - accuracy: 0.9464 - val_loss: 0.2878 - val_accuracy: 0.9535\n",
            "Epoch 400/500\n",
            "84/84 [==============================] - 0s 3ms/step - loss: 0.2872 - accuracy: 0.8988 - val_loss: 0.3291 - val_accuracy: 0.9535\n",
            "Epoch 401/500\n",
            "84/84 [==============================] - 0s 2ms/step - loss: 0.2838 - accuracy: 0.9048 - val_loss: 0.2504 - val_accuracy: 0.9302\n",
            "Epoch 402/500\n",
            "84/84 [==============================] - 0s 3ms/step - loss: 0.1784 - accuracy: 0.9524 - val_loss: 0.2545 - val_accuracy: 0.9535\n",
            "Epoch 403/500\n",
            "84/84 [==============================] - 0s 3ms/step - loss: 0.2809 - accuracy: 0.9107 - val_loss: 0.3593 - val_accuracy: 0.9302\n",
            "Epoch 404/500\n",
            "84/84 [==============================] - 0s 3ms/step - loss: 0.2109 - accuracy: 0.9524 - val_loss: 0.2801 - val_accuracy: 0.9767\n",
            "Epoch 405/500\n",
            "84/84 [==============================] - 0s 3ms/step - loss: 0.4004 - accuracy: 0.8750 - val_loss: 0.4503 - val_accuracy: 0.8140\n",
            "Epoch 406/500\n",
            "84/84 [==============================] - 0s 2ms/step - loss: 0.2466 - accuracy: 0.9167 - val_loss: 0.2281 - val_accuracy: 0.8837\n",
            "Epoch 407/500\n",
            "84/84 [==============================] - 0s 3ms/step - loss: 0.4454 - accuracy: 0.8810 - val_loss: 0.2659 - val_accuracy: 0.9302\n",
            "Epoch 408/500\n",
            "84/84 [==============================] - 0s 3ms/step - loss: 0.4802 - accuracy: 0.8810 - val_loss: 0.2486 - val_accuracy: 0.9070\n",
            "Epoch 409/500\n",
            "84/84 [==============================] - 0s 3ms/step - loss: 0.3116 - accuracy: 0.8750 - val_loss: 0.2169 - val_accuracy: 0.9302\n",
            "Epoch 410/500\n",
            "84/84 [==============================] - 0s 2ms/step - loss: 0.3262 - accuracy: 0.9226 - val_loss: 0.2175 - val_accuracy: 0.9535\n",
            "Epoch 411/500\n",
            "84/84 [==============================] - 0s 3ms/step - loss: 0.3023 - accuracy: 0.8750 - val_loss: 0.2470 - val_accuracy: 0.9302\n",
            "Epoch 412/500\n",
            "84/84 [==============================] - 0s 3ms/step - loss: 0.2056 - accuracy: 0.9226 - val_loss: 0.1348 - val_accuracy: 0.9535\n",
            "Epoch 413/500\n",
            "84/84 [==============================] - 0s 2ms/step - loss: 0.1651 - accuracy: 0.9405 - val_loss: 0.2319 - val_accuracy: 0.9302\n",
            "Epoch 414/500\n",
            "84/84 [==============================] - 0s 2ms/step - loss: 0.1951 - accuracy: 0.9464 - val_loss: 0.2266 - val_accuracy: 0.9535\n",
            "Epoch 415/500\n",
            "84/84 [==============================] - 0s 2ms/step - loss: 0.2147 - accuracy: 0.9226 - val_loss: 0.1786 - val_accuracy: 0.9535\n",
            "Epoch 416/500\n",
            "84/84 [==============================] - 0s 3ms/step - loss: 0.3007 - accuracy: 0.9048 - val_loss: 0.1875 - val_accuracy: 0.9535\n",
            "Epoch 417/500\n",
            "84/84 [==============================] - 0s 2ms/step - loss: 0.3546 - accuracy: 0.9167 - val_loss: 0.2362 - val_accuracy: 0.9302\n",
            "Epoch 418/500\n",
            "84/84 [==============================] - 0s 3ms/step - loss: 0.1532 - accuracy: 0.9286 - val_loss: 0.2536 - val_accuracy: 0.9535\n",
            "Epoch 419/500\n",
            "84/84 [==============================] - 0s 2ms/step - loss: 0.2725 - accuracy: 0.9167 - val_loss: 0.2006 - val_accuracy: 0.9535\n",
            "Epoch 420/500\n",
            "84/84 [==============================] - 0s 2ms/step - loss: 0.2205 - accuracy: 0.9405 - val_loss: 0.2269 - val_accuracy: 0.9070\n",
            "Epoch 421/500\n",
            "84/84 [==============================] - 0s 3ms/step - loss: 0.1302 - accuracy: 0.9286 - val_loss: 0.1832 - val_accuracy: 0.9535\n",
            "Epoch 422/500\n",
            "84/84 [==============================] - 0s 2ms/step - loss: 0.1395 - accuracy: 0.9524 - val_loss: 0.1838 - val_accuracy: 0.9767\n",
            "Epoch 423/500\n",
            "84/84 [==============================] - 0s 2ms/step - loss: 0.4250 - accuracy: 0.8988 - val_loss: 0.1577 - val_accuracy: 0.9767\n",
            "Epoch 424/500\n",
            "84/84 [==============================] - 0s 3ms/step - loss: 0.3315 - accuracy: 0.9167 - val_loss: 0.1997 - val_accuracy: 0.9767\n",
            "Epoch 425/500\n",
            "84/84 [==============================] - 0s 2ms/step - loss: 0.1966 - accuracy: 0.9286 - val_loss: 0.1682 - val_accuracy: 0.9070\n",
            "Epoch 426/500\n",
            "84/84 [==============================] - 0s 3ms/step - loss: 0.4038 - accuracy: 0.9345 - val_loss: 0.1230 - val_accuracy: 0.9535\n",
            "Epoch 427/500\n",
            "84/84 [==============================] - 0s 2ms/step - loss: 0.2480 - accuracy: 0.8869 - val_loss: 0.1277 - val_accuracy: 0.9767\n",
            "Epoch 428/500\n",
            "84/84 [==============================] - 0s 2ms/step - loss: 0.3368 - accuracy: 0.9286 - val_loss: 0.1530 - val_accuracy: 0.9767\n",
            "Epoch 429/500\n",
            "84/84 [==============================] - 0s 2ms/step - loss: 0.1773 - accuracy: 0.9226 - val_loss: 0.0713 - val_accuracy: 0.9767\n",
            "Epoch 430/500\n",
            "84/84 [==============================] - 0s 3ms/step - loss: 0.3198 - accuracy: 0.8929 - val_loss: 0.1036 - val_accuracy: 0.9767\n",
            "Epoch 431/500\n",
            "84/84 [==============================] - 0s 3ms/step - loss: 0.2321 - accuracy: 0.9107 - val_loss: 0.0412 - val_accuracy: 1.0000\n",
            "Epoch 432/500\n",
            "84/84 [==============================] - 0s 2ms/step - loss: 0.1401 - accuracy: 0.9405 - val_loss: 0.0357 - val_accuracy: 1.0000\n",
            "Epoch 433/500\n",
            "84/84 [==============================] - 0s 2ms/step - loss: 0.2230 - accuracy: 0.9405 - val_loss: 0.1307 - val_accuracy: 0.9535\n",
            "Epoch 434/500\n",
            "84/84 [==============================] - 0s 2ms/step - loss: 0.2732 - accuracy: 0.9286 - val_loss: 0.0966 - val_accuracy: 0.9767\n",
            "Epoch 435/500\n",
            "84/84 [==============================] - 0s 3ms/step - loss: 0.1921 - accuracy: 0.9464 - val_loss: 0.1229 - val_accuracy: 0.9535\n",
            "Epoch 436/500\n",
            "84/84 [==============================] - 0s 2ms/step - loss: 0.3557 - accuracy: 0.8869 - val_loss: 0.2481 - val_accuracy: 0.9535\n",
            "Epoch 437/500\n",
            "84/84 [==============================] - 0s 2ms/step - loss: 0.2507 - accuracy: 0.9107 - val_loss: 0.1717 - val_accuracy: 0.9767\n",
            "Epoch 438/500\n",
            "84/84 [==============================] - 0s 2ms/step - loss: 0.2163 - accuracy: 0.9048 - val_loss: 0.2517 - val_accuracy: 0.9302\n",
            "Epoch 439/500\n",
            "84/84 [==============================] - 0s 2ms/step - loss: 0.3347 - accuracy: 0.9107 - val_loss: 0.0593 - val_accuracy: 0.9767\n",
            "Epoch 440/500\n",
            "84/84 [==============================] - 0s 2ms/step - loss: 0.4687 - accuracy: 0.8631 - val_loss: 0.2213 - val_accuracy: 0.9535\n",
            "Epoch 441/500\n",
            "84/84 [==============================] - 0s 2ms/step - loss: 0.3282 - accuracy: 0.8988 - val_loss: 0.3905 - val_accuracy: 0.9535\n",
            "Epoch 442/500\n",
            "84/84 [==============================] - 0s 2ms/step - loss: 0.2771 - accuracy: 0.8988 - val_loss: 0.1399 - val_accuracy: 0.9535\n",
            "Epoch 443/500\n",
            "84/84 [==============================] - 0s 2ms/step - loss: 0.2013 - accuracy: 0.9048 - val_loss: 0.1046 - val_accuracy: 0.9302\n",
            "Epoch 444/500\n",
            "84/84 [==============================] - 0s 3ms/step - loss: 0.2108 - accuracy: 0.9167 - val_loss: 0.0335 - val_accuracy: 1.0000\n",
            "Epoch 445/500\n",
            "84/84 [==============================] - 0s 3ms/step - loss: 0.6971 - accuracy: 0.9048 - val_loss: 0.0509 - val_accuracy: 1.0000\n",
            "Epoch 446/500\n",
            "84/84 [==============================] - 0s 2ms/step - loss: 0.3094 - accuracy: 0.8929 - val_loss: 0.1491 - val_accuracy: 0.9070\n",
            "Epoch 447/500\n",
            "84/84 [==============================] - 0s 3ms/step - loss: 0.2564 - accuracy: 0.9107 - val_loss: 0.1679 - val_accuracy: 0.9767\n",
            "Epoch 448/500\n",
            "84/84 [==============================] - 0s 2ms/step - loss: 0.4596 - accuracy: 0.8750 - val_loss: 0.1776 - val_accuracy: 0.9302\n",
            "Epoch 449/500\n",
            "84/84 [==============================] - 0s 2ms/step - loss: 0.2691 - accuracy: 0.9048 - val_loss: 0.0563 - val_accuracy: 1.0000\n",
            "Epoch 450/500\n",
            "84/84 [==============================] - 0s 3ms/step - loss: 0.3674 - accuracy: 0.8452 - val_loss: 0.0495 - val_accuracy: 1.0000\n",
            "Epoch 451/500\n",
            "84/84 [==============================] - 0s 2ms/step - loss: 0.1591 - accuracy: 0.9405 - val_loss: 0.0810 - val_accuracy: 0.9767\n",
            "Epoch 452/500\n",
            "84/84 [==============================] - 0s 2ms/step - loss: 0.2869 - accuracy: 0.8869 - val_loss: 0.0775 - val_accuracy: 0.9767\n",
            "Epoch 453/500\n",
            "84/84 [==============================] - 0s 2ms/step - loss: 0.2590 - accuracy: 0.9286 - val_loss: 0.0887 - val_accuracy: 0.9767\n",
            "Epoch 454/500\n",
            "84/84 [==============================] - 0s 3ms/step - loss: 0.1746 - accuracy: 0.9524 - val_loss: 0.0261 - val_accuracy: 1.0000\n",
            "Epoch 455/500\n",
            "84/84 [==============================] - 0s 3ms/step - loss: 0.3111 - accuracy: 0.9107 - val_loss: 0.3781 - val_accuracy: 0.9302\n",
            "Epoch 456/500\n",
            "84/84 [==============================] - 0s 2ms/step - loss: 0.2304 - accuracy: 0.9226 - val_loss: 0.0825 - val_accuracy: 0.9767\n",
            "Epoch 457/500\n",
            "84/84 [==============================] - 0s 2ms/step - loss: 0.2211 - accuracy: 0.9048 - val_loss: 0.1026 - val_accuracy: 0.9535\n",
            "Epoch 458/500\n",
            "84/84 [==============================] - 0s 2ms/step - loss: 0.3112 - accuracy: 0.8750 - val_loss: 0.0720 - val_accuracy: 0.9767\n",
            "Epoch 459/500\n",
            "84/84 [==============================] - 0s 3ms/step - loss: 0.2649 - accuracy: 0.9048 - val_loss: 0.0969 - val_accuracy: 0.9767\n",
            "Epoch 460/500\n",
            "84/84 [==============================] - 0s 2ms/step - loss: 0.3363 - accuracy: 0.8631 - val_loss: 0.0771 - val_accuracy: 1.0000\n",
            "Epoch 461/500\n",
            "84/84 [==============================] - 0s 2ms/step - loss: 0.3685 - accuracy: 0.9107 - val_loss: 0.0247 - val_accuracy: 1.0000\n",
            "Epoch 462/500\n",
            "84/84 [==============================] - 0s 2ms/step - loss: 0.2617 - accuracy: 0.9286 - val_loss: 0.1584 - val_accuracy: 0.9535\n",
            "Epoch 463/500\n",
            "84/84 [==============================] - 0s 3ms/step - loss: 0.3731 - accuracy: 0.8869 - val_loss: 0.0739 - val_accuracy: 0.9767\n",
            "Epoch 464/500\n",
            "84/84 [==============================] - 0s 2ms/step - loss: 0.2107 - accuracy: 0.9107 - val_loss: 0.0997 - val_accuracy: 0.9302\n",
            "Epoch 465/500\n",
            "84/84 [==============================] - 0s 3ms/step - loss: 0.1927 - accuracy: 0.9286 - val_loss: 0.0798 - val_accuracy: 0.9767\n",
            "Epoch 466/500\n",
            "84/84 [==============================] - 0s 2ms/step - loss: 0.2468 - accuracy: 0.9464 - val_loss: 0.1214 - val_accuracy: 0.9767\n",
            "Epoch 467/500\n",
            "84/84 [==============================] - 0s 2ms/step - loss: 0.2355 - accuracy: 0.9167 - val_loss: 0.1308 - val_accuracy: 0.9767\n",
            "Epoch 468/500\n",
            "84/84 [==============================] - 0s 3ms/step - loss: 0.1495 - accuracy: 0.9524 - val_loss: 0.1789 - val_accuracy: 0.9302\n",
            "Epoch 469/500\n",
            "84/84 [==============================] - 0s 3ms/step - loss: 0.2263 - accuracy: 0.9226 - val_loss: 0.1250 - val_accuracy: 0.9767\n",
            "Epoch 470/500\n",
            "84/84 [==============================] - 0s 2ms/step - loss: 0.3413 - accuracy: 0.8929 - val_loss: 0.0722 - val_accuracy: 0.9767\n",
            "Epoch 471/500\n",
            "84/84 [==============================] - 0s 3ms/step - loss: 0.2133 - accuracy: 0.9405 - val_loss: 0.0706 - val_accuracy: 0.9767\n",
            "Epoch 472/500\n",
            "84/84 [==============================] - 0s 2ms/step - loss: 0.2927 - accuracy: 0.8929 - val_loss: 0.1966 - val_accuracy: 0.9535\n",
            "Epoch 473/500\n",
            "84/84 [==============================] - 0s 3ms/step - loss: 0.1382 - accuracy: 0.9405 - val_loss: 0.1924 - val_accuracy: 0.9535\n",
            "Epoch 474/500\n",
            "84/84 [==============================] - 0s 3ms/step - loss: 0.3619 - accuracy: 0.8988 - val_loss: 0.2066 - val_accuracy: 0.9535\n",
            "Epoch 475/500\n",
            "84/84 [==============================] - 0s 2ms/step - loss: 0.2392 - accuracy: 0.9345 - val_loss: 0.2394 - val_accuracy: 0.9767\n",
            "Epoch 476/500\n",
            "84/84 [==============================] - 0s 2ms/step - loss: 0.2433 - accuracy: 0.9167 - val_loss: 0.2586 - val_accuracy: 0.9070\n",
            "Epoch 477/500\n",
            "84/84 [==============================] - 0s 2ms/step - loss: 0.3354 - accuracy: 0.9048 - val_loss: 0.2256 - val_accuracy: 0.9767\n",
            "Epoch 478/500\n",
            "84/84 [==============================] - 0s 2ms/step - loss: 0.4244 - accuracy: 0.8869 - val_loss: 0.1641 - val_accuracy: 0.9767\n",
            "Epoch 479/500\n",
            "84/84 [==============================] - 0s 2ms/step - loss: 0.2958 - accuracy: 0.9345 - val_loss: 0.1750 - val_accuracy: 0.9070\n",
            "Epoch 480/500\n",
            "84/84 [==============================] - 0s 2ms/step - loss: 0.3415 - accuracy: 0.9345 - val_loss: 0.2089 - val_accuracy: 0.9535\n",
            "Epoch 481/500\n",
            "84/84 [==============================] - 0s 2ms/step - loss: 0.4188 - accuracy: 0.8750 - val_loss: 0.2498 - val_accuracy: 0.9070\n",
            "Epoch 482/500\n",
            "84/84 [==============================] - 0s 3ms/step - loss: 0.4970 - accuracy: 0.8810 - val_loss: 0.2219 - val_accuracy: 0.9302\n",
            "Epoch 483/500\n",
            "84/84 [==============================] - 0s 3ms/step - loss: 0.2820 - accuracy: 0.9107 - val_loss: 0.2391 - val_accuracy: 0.9535\n",
            "Epoch 484/500\n",
            "84/84 [==============================] - 0s 2ms/step - loss: 0.2659 - accuracy: 0.9048 - val_loss: 0.2669 - val_accuracy: 0.9302\n",
            "Epoch 485/500\n",
            "84/84 [==============================] - 0s 3ms/step - loss: 0.2675 - accuracy: 0.9226 - val_loss: 0.3209 - val_accuracy: 0.8837\n",
            "Epoch 486/500\n",
            "84/84 [==============================] - 0s 3ms/step - loss: 0.1857 - accuracy: 0.9345 - val_loss: 0.2205 - val_accuracy: 0.9535\n",
            "Epoch 487/500\n",
            "84/84 [==============================] - 0s 3ms/step - loss: 0.2327 - accuracy: 0.9226 - val_loss: 0.2846 - val_accuracy: 0.9767\n",
            "Epoch 488/500\n",
            "84/84 [==============================] - 0s 2ms/step - loss: 0.2164 - accuracy: 0.9167 - val_loss: 0.3238 - val_accuracy: 0.9302\n",
            "Epoch 489/500\n",
            "84/84 [==============================] - 0s 2ms/step - loss: 0.1622 - accuracy: 0.9405 - val_loss: 0.1559 - val_accuracy: 0.9302\n",
            "Epoch 490/500\n",
            "84/84 [==============================] - 0s 3ms/step - loss: 0.2549 - accuracy: 0.9048 - val_loss: 0.1542 - val_accuracy: 0.9302\n",
            "Epoch 491/500\n",
            "84/84 [==============================] - 0s 2ms/step - loss: 0.4118 - accuracy: 0.9107 - val_loss: 0.1034 - val_accuracy: 0.9767\n",
            "Epoch 492/500\n",
            "84/84 [==============================] - 0s 3ms/step - loss: 0.1005 - accuracy: 0.9464 - val_loss: 0.0316 - val_accuracy: 1.0000\n",
            "Epoch 493/500\n",
            "84/84 [==============================] - 0s 2ms/step - loss: 0.1554 - accuracy: 0.9464 - val_loss: 0.0935 - val_accuracy: 0.9767\n",
            "Epoch 494/500\n",
            "84/84 [==============================] - 0s 2ms/step - loss: 0.1751 - accuracy: 0.9345 - val_loss: 0.1818 - val_accuracy: 0.9535\n",
            "Epoch 495/500\n",
            "84/84 [==============================] - 0s 2ms/step - loss: 0.2701 - accuracy: 0.9226 - val_loss: 0.2800 - val_accuracy: 0.9302\n",
            "Epoch 496/500\n",
            "84/84 [==============================] - 0s 2ms/step - loss: 0.2198 - accuracy: 0.9107 - val_loss: 0.3546 - val_accuracy: 0.8837\n",
            "Epoch 497/500\n",
            "84/84 [==============================] - 0s 2ms/step - loss: 0.2905 - accuracy: 0.9107 - val_loss: 0.2488 - val_accuracy: 0.9767\n",
            "Epoch 498/500\n",
            "84/84 [==============================] - 0s 2ms/step - loss: 0.2781 - accuracy: 0.9107 - val_loss: 0.2308 - val_accuracy: 0.9767\n",
            "Epoch 499/500\n",
            "84/84 [==============================] - 0s 2ms/step - loss: 0.1527 - accuracy: 0.9524 - val_loss: 0.2068 - val_accuracy: 0.9535\n",
            "Epoch 500/500\n",
            "84/84 [==============================] - 0s 3ms/step - loss: 0.2225 - accuracy: 0.9226 - val_loss: 0.1883 - val_accuracy: 0.9767\n",
            "Training completed in time:  0:01:41.885638\n"
          ]
        }
      ]
    },
    {
      "cell_type": "code",
      "metadata": {
        "colab": {
          "base_uri": "https://localhost:8080/"
        },
        "id": "LsvWJ9J3yeL7",
        "outputId": "a50adc08-8070-4d50-8b00-5f8b8fe7a40e"
      },
      "source": [
        "test_accuracy=model.evaluate(X_test,y_test,verbose=0)\n",
        "print(test_accuracy[1])"
      ],
      "execution_count": 132,
      "outputs": [
        {
          "output_type": "stream",
          "name": "stdout",
          "text": [
            "0.9767441749572754\n"
          ]
        }
      ]
    },
    {
      "cell_type": "code",
      "metadata": {
        "id": "oU5f0ona8P_A"
      },
      "source": [
        "file_name='/content/gdrive/MyDrive/files/1.wav'"
      ],
      "execution_count": 141,
      "outputs": []
    },
    {
      "cell_type": "code",
      "metadata": {
        "id": "cWVy7NbQ8qhB"
      },
      "source": [
        "prediction_feature=features_extractor(file_name)"
      ],
      "execution_count": 142,
      "outputs": []
    },
    {
      "cell_type": "code",
      "metadata": {
        "colab": {
          "base_uri": "https://localhost:8080/"
        },
        "id": "-w6l8MgJA_BI",
        "outputId": "6295fc0e-65ed-4507-9dec-90fbb88bb058"
      },
      "source": [
        "prediction_feature"
      ],
      "execution_count": 143,
      "outputs": [
        {
          "output_type": "execute_result",
          "data": {
            "text/plain": [
              "array([-3.8418805e+02,  1.8930464e+02, -1.9617859e+01, -2.3286169e-02,\n",
              "        3.8938320e+01, -5.8916202e+00, -1.5703475e+00,  1.7681757e+01,\n",
              "       -1.0353161e+01, -9.0085535e+00,  1.1978271e+01, -1.4789484e+00,\n",
              "       -2.1036417e+00,  1.3111411e+01,  1.7754769e-01, -6.8009219e+00,\n",
              "        6.3118219e+00,  1.5876224e+00, -4.2772884e+00,  5.8073626e+00,\n",
              "        3.8567293e+00, -3.3417630e+00,  1.2790797e+00,  7.0279866e-01,\n",
              "       -2.5712030e+00,  2.6175907e+00,  2.1231036e+00, -2.6229057e+00,\n",
              "       -3.4691763e-01,  1.2436819e-01, -6.0142231e-01,  3.5598943e+00,\n",
              "        2.0723412e+00, -2.4341598e+00,  1.0926208e+00,  2.6510084e+00,\n",
              "       -1.5689056e+00, -1.1212561e-01,  3.5548546e+00,  1.9980277e+00],\n",
              "      dtype=float32)"
            ]
          },
          "metadata": {},
          "execution_count": 143
        }
      ]
    },
    {
      "cell_type": "code",
      "metadata": {
        "id": "KMvARLjkAYbQ"
      },
      "source": [
        "prediction_feature1=prediction_feature.reshape(1,-1)"
      ],
      "execution_count": 144,
      "outputs": []
    },
    {
      "cell_type": "code",
      "metadata": {
        "colab": {
          "base_uri": "https://localhost:8080/"
        },
        "id": "oKfHYixTBsp5",
        "outputId": "dba5e2b8-f6f5-41cd-e3ed-2bf43c3c4ab5"
      },
      "source": [
        "prediction_feature1.shape"
      ],
      "execution_count": 145,
      "outputs": [
        {
          "output_type": "execute_result",
          "data": {
            "text/plain": [
              "(1, 40)"
            ]
          },
          "metadata": {},
          "execution_count": 145
        }
      ]
    },
    {
      "cell_type": "code",
      "metadata": {
        "id": "VJ6QdVtZ9QhX"
      },
      "source": [
        "p=np.argmax(model.predict(prediction_feature1), axis= 1)"
      ],
      "execution_count": 146,
      "outputs": []
    },
    {
      "cell_type": "code",
      "metadata": {
        "colab": {
          "base_uri": "https://localhost:8080/"
        },
        "id": "MGugSi5teXGf",
        "outputId": "14687179-83cc-43e1-f8d6-62d0cc551d5b"
      },
      "source": [
        "p"
      ],
      "execution_count": 147,
      "outputs": [
        {
          "output_type": "execute_result",
          "data": {
            "text/plain": [
              "array([2])"
            ]
          },
          "metadata": {},
          "execution_count": 147
        }
      ]
    },
    {
      "cell_type": "code",
      "metadata": {
        "colab": {
          "base_uri": "https://localhost:8080/"
        },
        "id": "akTXHf_BeoiM",
        "outputId": "25a6b719-664c-41b8-86fb-9634313e49bc"
      },
      "source": [
        "q = labelencoder.inverse_transform(p) \n",
        "q"
      ],
      "execution_count": 148,
      "outputs": [
        {
          "output_type": "execute_result",
          "data": {
            "text/plain": [
              "array(['Namaskar'], dtype='<U8')"
            ]
          },
          "metadata": {},
          "execution_count": 148
        }
      ]
    }
  ]
}